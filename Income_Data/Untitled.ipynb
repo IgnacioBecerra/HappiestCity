{
 "cells": [
  {
   "cell_type": "code",
   "execution_count": null,
   "metadata": {},
   "outputs": [],
   "source": [
    "cities = [line.rstrip('\\n\\r') for line in open('./cities.txt')]"
   ]
  },
  {
   "cell_type": "code",
   "execution_count": 3,
   "metadata": {},
   "outputs": [
    {
     "name": "stdout",
     "output_type": "stream",
     "text": [
      "90,685\n"
     ]
    }
   ],
   "source": [
    "from selenium import webdriver\n",
    "from selenium.webdriver.chrome.options import Options \n",
    "import selenium.webdriver.support.ui as ui\n",
    "import time\n",
    "chrome_options = Options()  \n",
    "chrome_options.add_argument(\"--headless\")\n",
    "br = webdriver.Chrome(chrome_options=chrome_options, executable_path=r'./chromedriver.exe')  \n",
    "br.get(\"https://factfinder.census.gov/faces/nav/jsf/pages/community_facts.xhtml\")\n",
    "wait = ui.WebDriverWait(br,15)\n",
    "\n",
    "# Types search terms for a course\n",
    "element = wait.until(lambda br:br.find_element_by_id('cfsearchtextbox'))\n",
    "element.clear()\n",
    "element.send_keys(\"San Diego\")\n",
    "\n",
    "# Submits form\n",
    "element =  wait.until(lambda br: br.find_element_by_xpath('//*[@id=\"communityfactssubmit\"]'))\n",
    "element.click()\n",
    "\n",
    "# Clicking the income tab\n",
    "element = wait.until(lambda br:br.find_element_by_xpath('//*[@id=\"leftnav\"]/a[7]'))\n",
    "element.click()\n",
    "\n",
    "# Getting table link\n",
    "time.sleep(2)\n",
    "element = wait.until(lambda br:br.find_element_by_xpath('//*[@id=\"cf-content\"]/div[2]/div[1]/ul[1]/li[1]/div/a'))\n",
    "href = element.get_attribute('href')\n",
    "br.get(href)\n",
    "\n",
    "\n",
    "\n",
    "element = wait.until(lambda br:br.find_element_by_xpath('//*[@id=\"data\"]/tbody/tr[79]/td[1]'))\n",
    "print(element.text)\n"
   ]
  },
  {
   "cell_type": "code",
   "execution_count": null,
   "metadata": {},
   "outputs": [],
   "source": []
  },
  {
   "cell_type": "code",
   "execution_count": null,
   "metadata": {},
   "outputs": [],
   "source": []
  }
 ],
 "metadata": {
  "kernelspec": {
   "display_name": "Python 3",
   "language": "python",
   "name": "python3"
  },
  "language_info": {
   "codemirror_mode": {
    "name": "ipython",
    "version": 3
   },
   "file_extension": ".py",
   "mimetype": "text/x-python",
   "name": "python",
   "nbconvert_exporter": "python",
   "pygments_lexer": "ipython3",
   "version": "3.6.4"
  }
 },
 "nbformat": 4,
 "nbformat_minor": 2
}
