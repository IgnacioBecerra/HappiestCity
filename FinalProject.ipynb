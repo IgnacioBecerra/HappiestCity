{
 "cells": [
  {
   "cell_type": "markdown",
   "metadata": {},
   "source": [
    "# $\\textrm{Introdution and Background}$"
   ]
  },
  {
   "cell_type": "code",
   "execution_count": null,
   "metadata": {},
   "outputs": [],
   "source": []
  },
  {
   "cell_type": "markdown",
   "metadata": {},
   "source": [
    "# $\\textrm{Data Description}$"
   ]
  },
  {
   "cell_type": "code",
   "execution_count": null,
   "metadata": {},
   "outputs": [],
   "source": []
  },
  {
   "cell_type": "markdown",
   "metadata": {},
   "source": [
    "# $\\textrm{Data Cleaning/Pre-processing}$"
   ]
  },
  {
   "cell_type": "code",
   "execution_count": 1,
   "metadata": {},
   "outputs": [],
   "source": [
    "import pandas as pd\n",
    "import numpy as np\n",
    "import scipy.interpolate as sp_interpolate"
   ]
  },
  {
   "cell_type": "markdown",
   "metadata": {},
   "source": [
    "## Income"
   ]
  },
  {
   "cell_type": "code",
   "execution_count": 2,
   "metadata": {},
   "outputs": [],
   "source": [
    "income = pd.read_csv('Income_Data/cities_median_income.csv')"
   ]
  },
  {
   "cell_type": "code",
   "execution_count": 3,
   "metadata": {},
   "outputs": [
    {
     "data": {
      "text/html": [
       "<div>\n",
       "<style scoped>\n",
       "    .dataframe tbody tr th:only-of-type {\n",
       "        vertical-align: middle;\n",
       "    }\n",
       "\n",
       "    .dataframe tbody tr th {\n",
       "        vertical-align: top;\n",
       "    }\n",
       "\n",
       "    .dataframe thead th {\n",
       "        text-align: right;\n",
       "    }\n",
       "</style>\n",
       "<table border=\"1\" class=\"dataframe\">\n",
       "  <thead>\n",
       "    <tr style=\"text-align: right;\">\n",
       "      <th></th>\n",
       "      <th>City</th>\n",
       "      <th>Median Income 2016</th>\n",
       "      <th>Median Income 2015</th>\n",
       "      <th>Median Income 2014</th>\n",
       "      <th>Median Income 2013</th>\n",
       "      <th>Median Income 2012</th>\n",
       "      <th>Median Income 2011</th>\n",
       "      <th>Median Income 2010</th>\n",
       "    </tr>\n",
       "  </thead>\n",
       "  <tbody>\n",
       "    <tr>\n",
       "      <th>0</th>\n",
       "      <td>Birmingham, AL</td>\n",
       "      <td>46,346</td>\n",
       "      <td>44,463</td>\n",
       "      <td>44,447</td>\n",
       "      <td>44,716</td>\n",
       "      <td>44,710</td>\n",
       "      <td>45,423</td>\n",
       "      <td>45,198</td>\n",
       "    </tr>\n",
       "    <tr>\n",
       "      <th>1</th>\n",
       "      <td>Montgomery, AL</td>\n",
       "      <td>63,847</td>\n",
       "      <td>62,201</td>\n",
       "      <td>62,568</td>\n",
       "      <td>62,418</td>\n",
       "      <td>61,896</td>\n",
       "      <td>62,645</td>\n",
       "      <td>61,229</td>\n",
       "    </tr>\n",
       "    <tr>\n",
       "      <th>2</th>\n",
       "      <td>Anchorage, AK</td>\n",
       "      <td>102,500</td>\n",
       "      <td>99,630</td>\n",
       "      <td>98,317</td>\n",
       "      <td>96,935</td>\n",
       "      <td>95,632</td>\n",
       "      <td>94,073</td>\n",
       "      <td>91,251</td>\n",
       "    </tr>\n",
       "    <tr>\n",
       "      <th>3</th>\n",
       "      <td>Juneau, AK</td>\n",
       "      <td>104,005</td>\n",
       "      <td>102,355</td>\n",
       "      <td>97,588</td>\n",
       "      <td>96,025</td>\n",
       "      <td>95,433</td>\n",
       "      <td>93,994</td>\n",
       "      <td>89,373</td>\n",
       "    </tr>\n",
       "    <tr>\n",
       "      <th>4</th>\n",
       "      <td>Phoenix, AZ</td>\n",
       "      <td>69,216</td>\n",
       "      <td>66,345</td>\n",
       "      <td>65,770</td>\n",
       "      <td>65,199</td>\n",
       "      <td>65,968</td>\n",
       "      <td>66,709</td>\n",
       "      <td>66,996</td>\n",
       "    </tr>\n",
       "  </tbody>\n",
       "</table>\n",
       "</div>"
      ],
      "text/plain": [
       "             City Median Income 2016 Median Income 2015 Median Income 2014  \\\n",
       "0  Birmingham, AL             46,346             44,463             44,447   \n",
       "1  Montgomery, AL             63,847             62,201             62,568   \n",
       "2   Anchorage, AK            102,500             99,630             98,317   \n",
       "3      Juneau, AK            104,005            102,355             97,588   \n",
       "4     Phoenix, AZ             69,216             66,345             65,770   \n",
       "\n",
       "  Median Income 2013 Median Income 2012 Median Income 2011 Median Income 2010  \n",
       "0             44,716             44,710             45,423             45,198  \n",
       "1             62,418             61,896             62,645             61,229  \n",
       "2             96,935             95,632             94,073             91,251  \n",
       "3             96,025             95,433             93,994             89,373  \n",
       "4             65,199             65,968             66,709             66,996  "
      ]
     },
     "execution_count": 3,
     "metadata": {},
     "output_type": "execute_result"
    }
   ],
   "source": [
    "income.head()"
   ]
  },
  {
   "cell_type": "code",
   "execution_count": 4,
   "metadata": {},
   "outputs": [],
   "source": [
    "# rename columns\n",
    "income.columns = ['city', '2016', '2015', '2014', '2013', '2012', '2011', '2010']"
   ]
  },
  {
   "cell_type": "code",
   "execution_count": 5,
   "metadata": {},
   "outputs": [],
   "source": [
    "# unpivot\n",
    "income = pd.melt(income, id_vars=['city'], var_name='year', value_name='median income') \\\n",
    "           .sort_values(['city', 'year']) \\\n",
    "           .reset_index(drop=True)"
   ]
  },
  {
   "cell_type": "code",
   "execution_count": 6,
   "metadata": {},
   "outputs": [],
   "source": [
    "# convert to MultiIndex\n",
    "income.set_index(['city', 'year'], inplace=True)"
   ]
  },
  {
   "cell_type": "code",
   "execution_count": 7,
   "metadata": {},
   "outputs": [
    {
     "data": {
      "text/html": [
       "<div>\n",
       "<style scoped>\n",
       "    .dataframe tbody tr th:only-of-type {\n",
       "        vertical-align: middle;\n",
       "    }\n",
       "\n",
       "    .dataframe tbody tr th {\n",
       "        vertical-align: top;\n",
       "    }\n",
       "\n",
       "    .dataframe thead th {\n",
       "        text-align: right;\n",
       "    }\n",
       "</style>\n",
       "<table border=\"1\" class=\"dataframe\">\n",
       "  <thead>\n",
       "    <tr style=\"text-align: right;\">\n",
       "      <th></th>\n",
       "      <th></th>\n",
       "      <th>median income</th>\n",
       "    </tr>\n",
       "    <tr>\n",
       "      <th>city</th>\n",
       "      <th>year</th>\n",
       "      <th></th>\n",
       "    </tr>\n",
       "  </thead>\n",
       "  <tbody>\n",
       "    <tr>\n",
       "      <th rowspan=\"5\" valign=\"top\">Albany, NY</th>\n",
       "      <th>2010</th>\n",
       "      <td>73,470</td>\n",
       "    </tr>\n",
       "    <tr>\n",
       "      <th>2011</th>\n",
       "      <td>75,821</td>\n",
       "    </tr>\n",
       "    <tr>\n",
       "      <th>2012</th>\n",
       "      <td>76,707</td>\n",
       "    </tr>\n",
       "    <tr>\n",
       "      <th>2013</th>\n",
       "      <td>77,687</td>\n",
       "    </tr>\n",
       "    <tr>\n",
       "      <th>2014</th>\n",
       "      <td>78,285</td>\n",
       "    </tr>\n",
       "  </tbody>\n",
       "</table>\n",
       "</div>"
      ],
      "text/plain": [
       "                median income\n",
       "city       year              \n",
       "Albany, NY 2010        73,470\n",
       "           2011        75,821\n",
       "           2012        76,707\n",
       "           2013        77,687\n",
       "           2014        78,285"
      ]
     },
     "execution_count": 7,
     "metadata": {},
     "output_type": "execute_result"
    }
   ],
   "source": [
    "income.head()"
   ]
  },
  {
   "cell_type": "markdown",
   "metadata": {},
   "source": [
    "## Unemployment"
   ]
  },
  {
   "cell_type": "code",
   "execution_count": 8,
   "metadata": {},
   "outputs": [],
   "source": [
    "unemployment = pd.read_csv('Income_Data/cities_unemployment_rate.csv')"
   ]
  },
  {
   "cell_type": "code",
   "execution_count": 9,
   "metadata": {},
   "outputs": [
    {
     "data": {
      "text/html": [
       "<div>\n",
       "<style scoped>\n",
       "    .dataframe tbody tr th:only-of-type {\n",
       "        vertical-align: middle;\n",
       "    }\n",
       "\n",
       "    .dataframe tbody tr th {\n",
       "        vertical-align: top;\n",
       "    }\n",
       "\n",
       "    .dataframe thead th {\n",
       "        text-align: right;\n",
       "    }\n",
       "</style>\n",
       "<table border=\"1\" class=\"dataframe\">\n",
       "  <thead>\n",
       "    <tr style=\"text-align: right;\">\n",
       "      <th></th>\n",
       "      <th>City</th>\n",
       "      <th>Unemployment Rate 2016</th>\n",
       "      <th>Unemployment Rate 2015</th>\n",
       "      <th>Unemployment Rate 2014</th>\n",
       "      <th>Unemployment Rate 2013</th>\n",
       "      <th>Unemployment Rate 2012</th>\n",
       "      <th>Unemployment Rate 2011</th>\n",
       "      <th>Unemployment Rate 2010</th>\n",
       "    </tr>\n",
       "  </thead>\n",
       "  <tbody>\n",
       "    <tr>\n",
       "      <th>0</th>\n",
       "      <td>Birmingham, AL</td>\n",
       "      <td>11.8%</td>\n",
       "      <td>13.3%</td>\n",
       "      <td>14.5%</td>\n",
       "      <td>15.3%</td>\n",
       "      <td>14.5%</td>\n",
       "      <td>13.6%</td>\n",
       "      <td>12.9%</td>\n",
       "    </tr>\n",
       "    <tr>\n",
       "      <th>1</th>\n",
       "      <td>Montgomery, AL</td>\n",
       "      <td>8.4%</td>\n",
       "      <td>8.8%</td>\n",
       "      <td>8.9%</td>\n",
       "      <td>8.9%</td>\n",
       "      <td>8.7%</td>\n",
       "      <td>8.6%</td>\n",
       "      <td>7.9%</td>\n",
       "    </tr>\n",
       "    <tr>\n",
       "      <th>2</th>\n",
       "      <td>Anchorage, AK</td>\n",
       "      <td>6.0%</td>\n",
       "      <td>6.7%</td>\n",
       "      <td>6.9%</td>\n",
       "      <td>7.3%</td>\n",
       "      <td>7.3%</td>\n",
       "      <td>7.2%</td>\n",
       "      <td>7.4%</td>\n",
       "    </tr>\n",
       "    <tr>\n",
       "      <th>3</th>\n",
       "      <td>Juneau, AK</td>\n",
       "      <td>4.9%</td>\n",
       "      <td>5.2%</td>\n",
       "      <td>5.6%</td>\n",
       "      <td>5.3%</td>\n",
       "      <td>5.1%</td>\n",
       "      <td>5.3%</td>\n",
       "      <td>5.8%</td>\n",
       "    </tr>\n",
       "    <tr>\n",
       "      <th>4</th>\n",
       "      <td>Phoenix, AZ</td>\n",
       "      <td>7.7%</td>\n",
       "      <td>8.8%</td>\n",
       "      <td>9.9%</td>\n",
       "      <td>10.6%</td>\n",
       "      <td>9.7%</td>\n",
       "      <td>8.7%</td>\n",
       "      <td>7.4%</td>\n",
       "    </tr>\n",
       "  </tbody>\n",
       "</table>\n",
       "</div>"
      ],
      "text/plain": [
       "             City Unemployment Rate 2016 Unemployment Rate 2015  \\\n",
       "0  Birmingham, AL                  11.8%                  13.3%   \n",
       "1  Montgomery, AL                   8.4%                   8.8%   \n",
       "2   Anchorage, AK                   6.0%                   6.7%   \n",
       "3      Juneau, AK                   4.9%                   5.2%   \n",
       "4     Phoenix, AZ                   7.7%                   8.8%   \n",
       "\n",
       "  Unemployment Rate 2014 Unemployment Rate 2013 Unemployment Rate 2012  \\\n",
       "0                  14.5%                  15.3%                  14.5%   \n",
       "1                   8.9%                   8.9%                   8.7%   \n",
       "2                   6.9%                   7.3%                   7.3%   \n",
       "3                   5.6%                   5.3%                   5.1%   \n",
       "4                   9.9%                  10.6%                   9.7%   \n",
       "\n",
       "  Unemployment Rate 2011 Unemployment Rate 2010  \n",
       "0                  13.6%                  12.9%  \n",
       "1                   8.6%                   7.9%  \n",
       "2                   7.2%                   7.4%  \n",
       "3                   5.3%                   5.8%  \n",
       "4                   8.7%                   7.4%  "
      ]
     },
     "execution_count": 9,
     "metadata": {},
     "output_type": "execute_result"
    }
   ],
   "source": [
    "unemployment.head()"
   ]
  },
  {
   "cell_type": "code",
   "execution_count": 10,
   "metadata": {},
   "outputs": [],
   "source": [
    "# rename columns\n",
    "unemployment.columns = ['city', '2016', '2015', '2014', '2013', '2012', '2011', '2010']"
   ]
  },
  {
   "cell_type": "code",
   "execution_count": 11,
   "metadata": {},
   "outputs": [],
   "source": [
    "# unpivot\n",
    "unemployment = pd.melt(unemployment, id_vars=['city'], var_name='year', value_name='unemployment rate') \\\n",
    "                 .sort_values(['city', 'year']) \\\n",
    "                 .reset_index(drop=True)"
   ]
  },
  {
   "cell_type": "code",
   "execution_count": 12,
   "metadata": {},
   "outputs": [],
   "source": [
    "# convert percentages to decimals\n",
    "unemployment['unemployment rate'] = unemployment['unemployment rate'] \\\n",
    "                                    .map(lambda rate: float(rate.rstrip('%'))/100)"
   ]
  },
  {
   "cell_type": "code",
   "execution_count": 13,
   "metadata": {},
   "outputs": [],
   "source": [
    "# convert to MultiIndex\n",
    "unemployment.set_index(['city', 'year'], inplace=True)"
   ]
  },
  {
   "cell_type": "code",
   "execution_count": 14,
   "metadata": {},
   "outputs": [
    {
     "data": {
      "text/html": [
       "<div>\n",
       "<style scoped>\n",
       "    .dataframe tbody tr th:only-of-type {\n",
       "        vertical-align: middle;\n",
       "    }\n",
       "\n",
       "    .dataframe tbody tr th {\n",
       "        vertical-align: top;\n",
       "    }\n",
       "\n",
       "    .dataframe thead th {\n",
       "        text-align: right;\n",
       "    }\n",
       "</style>\n",
       "<table border=\"1\" class=\"dataframe\">\n",
       "  <thead>\n",
       "    <tr style=\"text-align: right;\">\n",
       "      <th></th>\n",
       "      <th></th>\n",
       "      <th>unemployment rate</th>\n",
       "    </tr>\n",
       "    <tr>\n",
       "      <th>city</th>\n",
       "      <th>year</th>\n",
       "      <th></th>\n",
       "    </tr>\n",
       "  </thead>\n",
       "  <tbody>\n",
       "    <tr>\n",
       "      <th rowspan=\"5\" valign=\"top\">Albany, NY</th>\n",
       "      <th>2010</th>\n",
       "      <td>0.060</td>\n",
       "    </tr>\n",
       "    <tr>\n",
       "      <th>2011</th>\n",
       "      <td>0.065</td>\n",
       "    </tr>\n",
       "    <tr>\n",
       "      <th>2012</th>\n",
       "      <td>0.070</td>\n",
       "    </tr>\n",
       "    <tr>\n",
       "      <th>2013</th>\n",
       "      <td>0.073</td>\n",
       "    </tr>\n",
       "    <tr>\n",
       "      <th>2014</th>\n",
       "      <td>0.068</td>\n",
       "    </tr>\n",
       "  </tbody>\n",
       "</table>\n",
       "</div>"
      ],
      "text/plain": [
       "                 unemployment rate\n",
       "city       year                   \n",
       "Albany, NY 2010              0.060\n",
       "           2011              0.065\n",
       "           2012              0.070\n",
       "           2013              0.073\n",
       "           2014              0.068"
      ]
     },
     "execution_count": 14,
     "metadata": {},
     "output_type": "execute_result"
    }
   ],
   "source": [
    "unemployment.head()"
   ]
  },
  {
   "cell_type": "markdown",
   "metadata": {},
   "source": [
    "## Traffic"
   ]
  },
  {
   "cell_type": "code",
   "execution_count": 15,
   "metadata": {},
   "outputs": [],
   "source": [
    "traffic = pd.read_csv('Income_Data/cities_mean_commute_time.csv')"
   ]
  },
  {
   "cell_type": "code",
   "execution_count": 16,
   "metadata": {},
   "outputs": [
    {
     "data": {
      "text/html": [
       "<div>\n",
       "<style scoped>\n",
       "    .dataframe tbody tr th:only-of-type {\n",
       "        vertical-align: middle;\n",
       "    }\n",
       "\n",
       "    .dataframe tbody tr th {\n",
       "        vertical-align: top;\n",
       "    }\n",
       "\n",
       "    .dataframe thead th {\n",
       "        text-align: right;\n",
       "    }\n",
       "</style>\n",
       "<table border=\"1\" class=\"dataframe\">\n",
       "  <thead>\n",
       "    <tr style=\"text-align: right;\">\n",
       "      <th></th>\n",
       "      <th>City</th>\n",
       "      <th>Mean Commute Time 2016</th>\n",
       "      <th>Mean Commute Time 2015</th>\n",
       "      <th>Mean Commute Time 2014</th>\n",
       "      <th>Mean Commute Time 2013</th>\n",
       "      <th>Mean Commute Time 2012</th>\n",
       "      <th>Mean Commute Time 2011</th>\n",
       "      <th>Mean Commute Time 2010</th>\n",
       "    </tr>\n",
       "  </thead>\n",
       "  <tbody>\n",
       "    <tr>\n",
       "      <th>0</th>\n",
       "      <td>Birmingham, AL</td>\n",
       "      <td>21.4</td>\n",
       "      <td>21.4</td>\n",
       "      <td>21.6</td>\n",
       "      <td>21.7</td>\n",
       "      <td>21.8</td>\n",
       "      <td>21.7</td>\n",
       "      <td>22.0</td>\n",
       "    </tr>\n",
       "    <tr>\n",
       "      <th>1</th>\n",
       "      <td>Montgomery, AL</td>\n",
       "      <td>20.0</td>\n",
       "      <td>19.3</td>\n",
       "      <td>19.5</td>\n",
       "      <td>19.3</td>\n",
       "      <td>19.5</td>\n",
       "      <td>19.5</td>\n",
       "      <td>19.7</td>\n",
       "    </tr>\n",
       "    <tr>\n",
       "      <th>2</th>\n",
       "      <td>Anchorage, AK</td>\n",
       "      <td>19.1</td>\n",
       "      <td>19.5</td>\n",
       "      <td>19.4</td>\n",
       "      <td>19.4</td>\n",
       "      <td>19.0</td>\n",
       "      <td>18.6</td>\n",
       "      <td>18.2</td>\n",
       "    </tr>\n",
       "    <tr>\n",
       "      <th>3</th>\n",
       "      <td>Juneau, AK</td>\n",
       "      <td>15.6</td>\n",
       "      <td>15.1</td>\n",
       "      <td>14.8</td>\n",
       "      <td>15.1</td>\n",
       "      <td>15.5</td>\n",
       "      <td>15.2</td>\n",
       "      <td>15.3</td>\n",
       "    </tr>\n",
       "    <tr>\n",
       "      <th>4</th>\n",
       "      <td>Phoenix, AZ</td>\n",
       "      <td>25.1</td>\n",
       "      <td>24.8</td>\n",
       "      <td>24.5</td>\n",
       "      <td>24.4</td>\n",
       "      <td>24.4</td>\n",
       "      <td>24.7</td>\n",
       "      <td>24.8</td>\n",
       "    </tr>\n",
       "  </tbody>\n",
       "</table>\n",
       "</div>"
      ],
      "text/plain": [
       "             City  Mean Commute Time 2016  Mean Commute Time 2015  \\\n",
       "0  Birmingham, AL                    21.4                    21.4   \n",
       "1  Montgomery, AL                    20.0                    19.3   \n",
       "2   Anchorage, AK                    19.1                    19.5   \n",
       "3      Juneau, AK                    15.6                    15.1   \n",
       "4     Phoenix, AZ                    25.1                    24.8   \n",
       "\n",
       "   Mean Commute Time 2014  Mean Commute Time 2013  Mean Commute Time 2012  \\\n",
       "0                    21.6                    21.7                    21.8   \n",
       "1                    19.5                    19.3                    19.5   \n",
       "2                    19.4                    19.4                    19.0   \n",
       "3                    14.8                    15.1                    15.5   \n",
       "4                    24.5                    24.4                    24.4   \n",
       "\n",
       "   Mean Commute Time 2011  Mean Commute Time 2010  \n",
       "0                    21.7                    22.0  \n",
       "1                    19.5                    19.7  \n",
       "2                    18.6                    18.2  \n",
       "3                    15.2                    15.3  \n",
       "4                    24.7                    24.8  "
      ]
     },
     "execution_count": 16,
     "metadata": {},
     "output_type": "execute_result"
    }
   ],
   "source": [
    "traffic.head()"
   ]
  },
  {
   "cell_type": "code",
   "execution_count": 17,
   "metadata": {},
   "outputs": [],
   "source": [
    "# rename columns\n",
    "traffic.columns = ['city', '2016', '2015', '2014', '2013', '2012', '2011', '2010']"
   ]
  },
  {
   "cell_type": "code",
   "execution_count": 18,
   "metadata": {},
   "outputs": [],
   "source": [
    "# unpivot\n",
    "traffic = pd.melt(traffic, id_vars=['city'], var_name='year', value_name='mean commute time') \\\n",
    "           .sort_values(['city', 'year']) \\\n",
    "           .reset_index(drop=True)"
   ]
  },
  {
   "cell_type": "code",
   "execution_count": 19,
   "metadata": {},
   "outputs": [],
   "source": [
    "# convert to MultiIndex\n",
    "traffic.set_index(['city', 'year'], inplace=True)"
   ]
  },
  {
   "cell_type": "code",
   "execution_count": 20,
   "metadata": {},
   "outputs": [
    {
     "data": {
      "text/html": [
       "<div>\n",
       "<style scoped>\n",
       "    .dataframe tbody tr th:only-of-type {\n",
       "        vertical-align: middle;\n",
       "    }\n",
       "\n",
       "    .dataframe tbody tr th {\n",
       "        vertical-align: top;\n",
       "    }\n",
       "\n",
       "    .dataframe thead th {\n",
       "        text-align: right;\n",
       "    }\n",
       "</style>\n",
       "<table border=\"1\" class=\"dataframe\">\n",
       "  <thead>\n",
       "    <tr style=\"text-align: right;\">\n",
       "      <th></th>\n",
       "      <th></th>\n",
       "      <th>mean commute time</th>\n",
       "    </tr>\n",
       "    <tr>\n",
       "      <th>city</th>\n",
       "      <th>year</th>\n",
       "      <th></th>\n",
       "    </tr>\n",
       "  </thead>\n",
       "  <tbody>\n",
       "    <tr>\n",
       "      <th rowspan=\"5\" valign=\"top\">Albany, NY</th>\n",
       "      <th>2010</th>\n",
       "      <td>19.7</td>\n",
       "    </tr>\n",
       "    <tr>\n",
       "      <th>2011</th>\n",
       "      <td>19.9</td>\n",
       "    </tr>\n",
       "    <tr>\n",
       "      <th>2012</th>\n",
       "      <td>20.0</td>\n",
       "    </tr>\n",
       "    <tr>\n",
       "      <th>2013</th>\n",
       "      <td>20.0</td>\n",
       "    </tr>\n",
       "    <tr>\n",
       "      <th>2014</th>\n",
       "      <td>20.1</td>\n",
       "    </tr>\n",
       "  </tbody>\n",
       "</table>\n",
       "</div>"
      ],
      "text/plain": [
       "                 mean commute time\n",
       "city       year                   \n",
       "Albany, NY 2010               19.7\n",
       "           2011               19.9\n",
       "           2012               20.0\n",
       "           2013               20.0\n",
       "           2014               20.1"
      ]
     },
     "execution_count": 20,
     "metadata": {},
     "output_type": "execute_result"
    }
   ],
   "source": [
    "traffic.head()"
   ]
  },
  {
   "cell_type": "markdown",
   "metadata": {},
   "source": [
    "## Crime"
   ]
  },
  {
   "cell_type": "code",
   "execution_count": 21,
   "metadata": {},
   "outputs": [],
   "source": [
    "crime = pd.read_pickle('crime_data/crime_data.pkl')"
   ]
  },
  {
   "cell_type": "code",
   "execution_count": 22,
   "metadata": {},
   "outputs": [
    {
     "data": {
      "text/html": [
       "<div>\n",
       "<style scoped>\n",
       "    .dataframe tbody tr th:only-of-type {\n",
       "        vertical-align: middle;\n",
       "    }\n",
       "\n",
       "    .dataframe tbody tr th {\n",
       "        vertical-align: top;\n",
       "    }\n",
       "\n",
       "    .dataframe thead th {\n",
       "        text-align: right;\n",
       "    }\n",
       "</style>\n",
       "<table border=\"1\" class=\"dataframe\">\n",
       "  <thead>\n",
       "    <tr style=\"text-align: right;\">\n",
       "      <th></th>\n",
       "      <th></th>\n",
       "      <th>arson</th>\n",
       "      <th>assault</th>\n",
       "      <th>burglary</th>\n",
       "      <th>murder</th>\n",
       "      <th>rape</th>\n",
       "      <th>robbery</th>\n",
       "      <th>theft</th>\n",
       "      <th>vehicle theft</th>\n",
       "      <th>population</th>\n",
       "    </tr>\n",
       "    <tr>\n",
       "      <th>city</th>\n",
       "      <th>year</th>\n",
       "      <th></th>\n",
       "      <th></th>\n",
       "      <th></th>\n",
       "      <th></th>\n",
       "      <th></th>\n",
       "      <th></th>\n",
       "      <th></th>\n",
       "      <th></th>\n",
       "      <th></th>\n",
       "    </tr>\n",
       "  </thead>\n",
       "  <tbody>\n",
       "    <tr>\n",
       "      <th rowspan=\"5\" valign=\"top\">Birmingham, AL</th>\n",
       "      <th>2002</th>\n",
       "      <td>211</td>\n",
       "      <td>1697</td>\n",
       "      <td>4389</td>\n",
       "      <td>65</td>\n",
       "      <td>239</td>\n",
       "      <td>1186</td>\n",
       "      <td>11640</td>\n",
       "      <td>2049</td>\n",
       "      <td>NaN</td>\n",
       "    </tr>\n",
       "    <tr>\n",
       "      <th>2003</th>\n",
       "      <td>175</td>\n",
       "      <td>1706</td>\n",
       "      <td>4831</td>\n",
       "      <td>85</td>\n",
       "      <td>204</td>\n",
       "      <td>1352</td>\n",
       "      <td>11934</td>\n",
       "      <td>2809</td>\n",
       "      <td>NaN</td>\n",
       "    </tr>\n",
       "    <tr>\n",
       "      <th>2004</th>\n",
       "      <td>142</td>\n",
       "      <td>1593</td>\n",
       "      <td>5156</td>\n",
       "      <td>59</td>\n",
       "      <td>240</td>\n",
       "      <td>1369</td>\n",
       "      <td>11970</td>\n",
       "      <td>2351</td>\n",
       "      <td>NaN</td>\n",
       "    </tr>\n",
       "    <tr>\n",
       "      <th>2005</th>\n",
       "      <td>136</td>\n",
       "      <td>1675</td>\n",
       "      <td>4933</td>\n",
       "      <td>104</td>\n",
       "      <td>241</td>\n",
       "      <td>1429</td>\n",
       "      <td>11962</td>\n",
       "      <td>2028</td>\n",
       "      <td>NaN</td>\n",
       "    </tr>\n",
       "    <tr>\n",
       "      <th>2006</th>\n",
       "      <td>228</td>\n",
       "      <td>1422</td>\n",
       "      <td>4813</td>\n",
       "      <td>104</td>\n",
       "      <td>220</td>\n",
       "      <td>1429</td>\n",
       "      <td>12113</td>\n",
       "      <td>2081</td>\n",
       "      <td>NaN</td>\n",
       "    </tr>\n",
       "  </tbody>\n",
       "</table>\n",
       "</div>"
      ],
      "text/plain": [
       "                    arson assault burglary murder rape robbery  theft  \\\n",
       "city           year                                                     \n",
       "Birmingham, AL 2002   211    1697     4389     65  239    1186  11640   \n",
       "               2003   175    1706     4831     85  204    1352  11934   \n",
       "               2004   142    1593     5156     59  240    1369  11970   \n",
       "               2005   136    1675     4933    104  241    1429  11962   \n",
       "               2006   228    1422     4813    104  220    1429  12113   \n",
       "\n",
       "                    vehicle theft population  \n",
       "city           year                           \n",
       "Birmingham, AL 2002          2049        NaN  \n",
       "               2003          2809        NaN  \n",
       "               2004          2351        NaN  \n",
       "               2005          2028        NaN  \n",
       "               2006          2081        NaN  "
      ]
     },
     "execution_count": 22,
     "metadata": {},
     "output_type": "execute_result"
    }
   ],
   "source": [
    "crime.head()"
   ]
  },
  {
   "cell_type": "code",
   "execution_count": 23,
   "metadata": {},
   "outputs": [],
   "source": [
    "# only keep 2009–2016\n",
    "crime.drop([str(year) for year in range(2000, 2008+1)], level='year', inplace=True)"
   ]
  },
  {
   "cell_type": "code",
   "execution_count": 24,
   "metadata": {
    "scrolled": false
   },
   "outputs": [],
   "source": [
    "# the only population value we're missing (2009 onward) is Chicago 2013,\n",
    "# so we'll fill it with the mean of Chicago's 2012 and 2014 populations\n",
    "crime.loc['Chicago, IL', '2013'].loc['population'] \\\n",
    "    = crime.loc['Chicago, IL'].loc[['2012', '2014'], 'population'].mean()"
   ]
  },
  {
   "cell_type": "code",
   "execution_count": 25,
   "metadata": {},
   "outputs": [],
   "source": [
    "# rescale crime values to occurence per capita\n",
    "for col_name in crime.columns:\n",
    "    crime[col_name] = crime[col_name]/crime['population']\n",
    "crime.drop('population', axis=1, inplace=True)\n",
    "# append \"rate\" to column names\n",
    "crime.rename(columns=lambda col_name: col_name + \" rate\", inplace=True)"
   ]
  },
  {
   "cell_type": "code",
   "execution_count": 26,
   "metadata": {},
   "outputs": [],
   "source": [
    "# These cities are missing all data points for these metrics,\n",
    "# so we'll fill those with zeros\n",
    "crime.loc['Boston, MA', 'arson rate'] = 0\n",
    "crime.loc['New York City, NY', 'arson rate'] = 0\n",
    "crime.loc['Huntington, WV', 'burglary rate'] = 0"
   ]
  },
  {
   "cell_type": "code",
   "execution_count": 27,
   "metadata": {},
   "outputs": [],
   "source": [
    "# These cities are missing half or more data points for these metrics,\n",
    "# so we'll fill them with the means of the available data points for those metrics for each city\n",
    "crime.loc['Montgomery, AL', 'arson rate'] =   crime.loc['Montgomery, AL', 'arson rate']                   \\\n",
    "                                              .fillna(crime.loc['Montgomery, AL', 'arson rate'].mean())   \\\n",
    "                                              .values\n",
    "crime.loc['Tucson, AZ', 'theft rate'] =       crime.loc['Tucson, AZ', 'theft rate']                       \\\n",
    "                                              .fillna(crime.loc['Tucson, AZ', 'theft rate'].mean())       \\\n",
    "                                              .values\n",
    "crime.loc['New Orleans, LA', 'arson rate'] =  crime.loc['New Orleans, LA', 'arson rate']                  \\\n",
    "                                              .fillna(crime.loc['New Orleans, LA', 'arson rate'].mean())  \\\n",
    "                                              .values\n",
    "crime.loc['Philadelphia, PA', 'arson rate'] = crime.loc['Philadelphia, PA', 'arson rate']                 \\\n",
    "                                              .fillna(crime.loc['Philadelphia, PA', 'arson rate'].mean()) \\\n",
    "                                              .values"
   ]
  },
  {
   "cell_type": "code",
   "execution_count": 28,
   "metadata": {
    "scrolled": false
   },
   "outputs": [],
   "source": [
    "# These cities are missing just a few data points,\n",
    "# so we'll fill them by linear interpolation\n",
    "def interpolate_crime_data(series):\n",
    "    x = series.dropna().index.values.astype(int) # year\n",
    "    y = series.dropna().values # data\n",
    "    \n",
    "    f = sp_interpolate.interp1d(x, y, fill_value='extrapolate')\n",
    "    x_all = series.index.values.astype(int)\n",
    "    return f(x_all)\n",
    "\n",
    "missing_data = [\n",
    "    ('Birmingham, AL', 'arson rate'),\n",
    "    ('Phoenix, AZ', 'arson rate'),\n",
    "    ('Chicago, IL', 'arson rate'),\n",
    "    ('Chicago, IL', 'assault rate'),\n",
    "    ('Chicago, IL', 'rape rate'),\n",
    "    ('Indianapolis, IN', 'arson rate'),\n",
    "    ('Topeka, KS', 'arson rate'),\n",
    "    ('Louisville, KY', 'arson rate'),\n",
    "    ('Lincoln, NE', 'arson rate'),\n",
    "    ('Omaha, NE', 'arson rate'),\n",
    "    ('Albuquerque, NM', 'arson rate'),\n",
    "    ('Santa Fe, NM', 'arson rate'),\n",
    "    ('Albany, NY', 'arson rate'),\n",
    "    ('Columbus, OH', 'arson rate'),\n",
    "    ('Providence, RI', 'vehicle theft rate'),\n",
    "    ('West Valley City, UT', 'burglary rate'),\n",
    "    ('Madison, WI', 'arson rate')\n",
    "]\n",
    "\n",
    "for city, injustice in missing_data:\n",
    "    crime.loc[city, injustice] = interpolate_crime_data(crime.loc[city, injustice])"
   ]
  },
  {
   "cell_type": "code",
   "execution_count": 29,
   "metadata": {
    "scrolled": true
   },
   "outputs": [
    {
     "data": {
      "text/html": [
       "<div>\n",
       "<style scoped>\n",
       "    .dataframe tbody tr th:only-of-type {\n",
       "        vertical-align: middle;\n",
       "    }\n",
       "\n",
       "    .dataframe tbody tr th {\n",
       "        vertical-align: top;\n",
       "    }\n",
       "\n",
       "    .dataframe thead th {\n",
       "        text-align: right;\n",
       "    }\n",
       "</style>\n",
       "<table border=\"1\" class=\"dataframe\">\n",
       "  <thead>\n",
       "    <tr style=\"text-align: right;\">\n",
       "      <th></th>\n",
       "      <th></th>\n",
       "      <th>arson rate</th>\n",
       "      <th>assault rate</th>\n",
       "      <th>burglary rate</th>\n",
       "      <th>murder rate</th>\n",
       "      <th>rape rate</th>\n",
       "      <th>robbery rate</th>\n",
       "      <th>theft rate</th>\n",
       "      <th>vehicle theft rate</th>\n",
       "    </tr>\n",
       "    <tr>\n",
       "      <th>city</th>\n",
       "      <th>year</th>\n",
       "      <th></th>\n",
       "      <th></th>\n",
       "      <th></th>\n",
       "      <th></th>\n",
       "      <th></th>\n",
       "      <th></th>\n",
       "      <th></th>\n",
       "      <th></th>\n",
       "    </tr>\n",
       "  </thead>\n",
       "  <tbody>\n",
       "    <tr>\n",
       "      <th rowspan=\"5\" valign=\"top\">Birmingham, AL</th>\n",
       "      <th>2009</th>\n",
       "      <td>0.000593738</td>\n",
       "      <td>0.00615289</td>\n",
       "      <td>0.0220739</td>\n",
       "      <td>0.000285874</td>\n",
       "      <td>0.000870816</td>\n",
       "      <td>0.00505777</td>\n",
       "      <td>0.05078</td>\n",
       "      <td>0.00701051</td>\n",
       "    </tr>\n",
       "    <tr>\n",
       "      <th>2011</th>\n",
       "      <td>0.000576766</td>\n",
       "      <td>0.00898442</td>\n",
       "      <td>0.0272252</td>\n",
       "      <td>0.000253214</td>\n",
       "      <td>0.000853426</td>\n",
       "      <td>0.00474074</td>\n",
       "      <td>0.0493393</td>\n",
       "      <td>0.00709469</td>\n",
       "    </tr>\n",
       "    <tr>\n",
       "      <th>2012</th>\n",
       "      <td>0.000548611</td>\n",
       "      <td>0.00954207</td>\n",
       "      <td>0.022057</td>\n",
       "      <td>0.000314162</td>\n",
       "      <td>0.000712725</td>\n",
       "      <td>0.00460927</td>\n",
       "      <td>0.0423978</td>\n",
       "      <td>0.00488592</td>\n",
       "    </tr>\n",
       "    <tr>\n",
       "      <th>2013</th>\n",
       "      <td>0.000616101</td>\n",
       "      <td>0.00774525</td>\n",
       "      <td>0.0189527</td>\n",
       "      <td>0.000297168</td>\n",
       "      <td>0.000839619</td>\n",
       "      <td>0.00457073</td>\n",
       "      <td>0.0408536</td>\n",
       "      <td>0.00697167</td>\n",
       "    </tr>\n",
       "    <tr>\n",
       "      <th>2014</th>\n",
       "      <td>0.000683591</td>\n",
       "      <td>0.00982486</td>\n",
       "      <td>0.0176791</td>\n",
       "      <td>0.00024515</td>\n",
       "      <td>0.000858025</td>\n",
       "      <td>0.00495486</td>\n",
       "      <td>0.0412182</td>\n",
       "      <td>0.00676991</td>\n",
       "    </tr>\n",
       "  </tbody>\n",
       "</table>\n",
       "</div>"
      ],
      "text/plain": [
       "                      arson rate assault rate burglary rate  murder rate  \\\n",
       "city           year                                                        \n",
       "Birmingham, AL 2009  0.000593738   0.00615289     0.0220739  0.000285874   \n",
       "               2011  0.000576766   0.00898442     0.0272252  0.000253214   \n",
       "               2012  0.000548611   0.00954207      0.022057  0.000314162   \n",
       "               2013  0.000616101   0.00774525     0.0189527  0.000297168   \n",
       "               2014  0.000683591   0.00982486     0.0176791   0.00024515   \n",
       "\n",
       "                       rape rate robbery rate theft rate vehicle theft rate  \n",
       "city           year                                                          \n",
       "Birmingham, AL 2009  0.000870816   0.00505777    0.05078         0.00701051  \n",
       "               2011  0.000853426   0.00474074  0.0493393         0.00709469  \n",
       "               2012  0.000712725   0.00460927  0.0423978         0.00488592  \n",
       "               2013  0.000839619   0.00457073  0.0408536         0.00697167  \n",
       "               2014  0.000858025   0.00495486  0.0412182         0.00676991  "
      ]
     },
     "execution_count": 29,
     "metadata": {},
     "output_type": "execute_result"
    }
   ],
   "source": [
    "crime.head()"
   ]
  },
  {
   "cell_type": "markdown",
   "metadata": {},
   "source": [
    "## Happiness"
   ]
  },
  {
   "cell_type": "code",
   "execution_count": null,
   "metadata": {},
   "outputs": [],
   "source": []
  },
  {
   "cell_type": "markdown",
   "metadata": {},
   "source": [
    "# $\\textrm{Data Visualization}$"
   ]
  },
  {
   "cell_type": "code",
   "execution_count": 30,
   "metadata": {},
   "outputs": [],
   "source": [
    "import matplotlib.pyplot as plt"
   ]
  },
  {
   "cell_type": "code",
   "execution_count": null,
   "metadata": {},
   "outputs": [],
   "source": []
  },
  {
   "cell_type": "markdown",
   "metadata": {},
   "source": [
    "# $\\textrm{Data Anaylsis and Results}$"
   ]
  },
  {
   "cell_type": "code",
   "execution_count": null,
   "metadata": {},
   "outputs": [],
   "source": []
  },
  {
   "cell_type": "markdown",
   "metadata": {},
   "source": [
    "# $\\textrm{Privacy/Ethics Considerations}$"
   ]
  },
  {
   "cell_type": "code",
   "execution_count": null,
   "metadata": {},
   "outputs": [],
   "source": []
  },
  {
   "cell_type": "markdown",
   "metadata": {},
   "source": [
    "# $\\textrm{Conclusions and Discussion}$"
   ]
  },
  {
   "cell_type": "code",
   "execution_count": null,
   "metadata": {},
   "outputs": [],
   "source": []
  }
 ],
 "metadata": {
  "kernelspec": {
   "display_name": "Python 3",
   "language": "python",
   "name": "python3"
  },
  "language_info": {
   "codemirror_mode": {
    "name": "ipython",
    "version": 3
   },
   "file_extension": ".py",
   "mimetype": "text/x-python",
   "name": "python",
   "nbconvert_exporter": "python",
   "pygments_lexer": "ipython3",
   "version": "3.6.4"
  }
 },
 "nbformat": 4,
 "nbformat_minor": 2
}
