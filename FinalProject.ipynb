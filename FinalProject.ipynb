{
 "cells": [
  {
   "cell_type": "markdown",
   "metadata": {},
   "source": [
    "# Introdution and Background"
   ]
  },
  {
   "cell_type": "code",
   "execution_count": null,
   "metadata": {},
   "outputs": [],
   "source": []
  },
  {
   "cell_type": "markdown",
   "metadata": {},
   "source": [
    "# Data Description"
   ]
  },
  {
   "cell_type": "code",
   "execution_count": null,
   "metadata": {},
   "outputs": [],
   "source": []
  },
  {
   "cell_type": "markdown",
   "metadata": {},
   "source": [
    "# Data Cleaning/Pre-processing"
   ]
  },
  {
   "cell_type": "code",
   "execution_count": 1,
   "metadata": {},
   "outputs": [],
   "source": [
    "import pandas as pd\n",
    "import numpy as np"
   ]
  },
  {
   "cell_type": "markdown",
   "metadata": {},
   "source": [
    "## Income"
   ]
  },
  {
   "cell_type": "code",
   "execution_count": 2,
   "metadata": {},
   "outputs": [],
   "source": [
    "income = pd.read_csv('Income_Data/cities_median_income.csv')"
   ]
  },
  {
   "cell_type": "code",
   "execution_count": 3,
   "metadata": {},
   "outputs": [
    {
     "data": {
      "text/html": [
       "<div>\n",
       "<style scoped>\n",
       "    .dataframe tbody tr th:only-of-type {\n",
       "        vertical-align: middle;\n",
       "    }\n",
       "\n",
       "    .dataframe tbody tr th {\n",
       "        vertical-align: top;\n",
       "    }\n",
       "\n",
       "    .dataframe thead th {\n",
       "        text-align: right;\n",
       "    }\n",
       "</style>\n",
       "<table border=\"1\" class=\"dataframe\">\n",
       "  <thead>\n",
       "    <tr style=\"text-align: right;\">\n",
       "      <th></th>\n",
       "      <th>City</th>\n",
       "      <th>Median Income 2016</th>\n",
       "      <th>Median Income 2015</th>\n",
       "      <th>Median Income 2014</th>\n",
       "      <th>Median Income 2013</th>\n",
       "      <th>Median Income 2012</th>\n",
       "      <th>Median Income 2011</th>\n",
       "      <th>Median Income 2010</th>\n",
       "    </tr>\n",
       "  </thead>\n",
       "  <tbody>\n",
       "    <tr>\n",
       "      <th>0</th>\n",
       "      <td>Birmingham, AL</td>\n",
       "      <td>46,346</td>\n",
       "      <td>44,463</td>\n",
       "      <td>44,447</td>\n",
       "      <td>44,716</td>\n",
       "      <td>44,710</td>\n",
       "      <td>45,423</td>\n",
       "      <td>45,198</td>\n",
       "    </tr>\n",
       "    <tr>\n",
       "      <th>1</th>\n",
       "      <td>Montgomery, AL</td>\n",
       "      <td>63,847</td>\n",
       "      <td>62,201</td>\n",
       "      <td>62,568</td>\n",
       "      <td>62,418</td>\n",
       "      <td>61,896</td>\n",
       "      <td>62,645</td>\n",
       "      <td>61,229</td>\n",
       "    </tr>\n",
       "    <tr>\n",
       "      <th>2</th>\n",
       "      <td>Anchorage, AK</td>\n",
       "      <td>102,500</td>\n",
       "      <td>99,630</td>\n",
       "      <td>98,317</td>\n",
       "      <td>96,935</td>\n",
       "      <td>95,632</td>\n",
       "      <td>94,073</td>\n",
       "      <td>91,251</td>\n",
       "    </tr>\n",
       "    <tr>\n",
       "      <th>3</th>\n",
       "      <td>Juneau, AK</td>\n",
       "      <td>104,005</td>\n",
       "      <td>102,355</td>\n",
       "      <td>97,588</td>\n",
       "      <td>96,025</td>\n",
       "      <td>95,433</td>\n",
       "      <td>93,994</td>\n",
       "      <td>89,373</td>\n",
       "    </tr>\n",
       "    <tr>\n",
       "      <th>4</th>\n",
       "      <td>Phoenix, AZ</td>\n",
       "      <td>69,216</td>\n",
       "      <td>66,345</td>\n",
       "      <td>65,770</td>\n",
       "      <td>65,199</td>\n",
       "      <td>65,968</td>\n",
       "      <td>66,709</td>\n",
       "      <td>66,996</td>\n",
       "    </tr>\n",
       "  </tbody>\n",
       "</table>\n",
       "</div>"
      ],
      "text/plain": [
       "             City Median Income 2016 Median Income 2015 Median Income 2014  \\\n",
       "0  Birmingham, AL             46,346             44,463             44,447   \n",
       "1  Montgomery, AL             63,847             62,201             62,568   \n",
       "2   Anchorage, AK            102,500             99,630             98,317   \n",
       "3      Juneau, AK            104,005            102,355             97,588   \n",
       "4     Phoenix, AZ             69,216             66,345             65,770   \n",
       "\n",
       "  Median Income 2013 Median Income 2012 Median Income 2011 Median Income 2010  \n",
       "0             44,716             44,710             45,423             45,198  \n",
       "1             62,418             61,896             62,645             61,229  \n",
       "2             96,935             95,632             94,073             91,251  \n",
       "3             96,025             95,433             93,994             89,373  \n",
       "4             65,199             65,968             66,709             66,996  "
      ]
     },
     "execution_count": 3,
     "metadata": {},
     "output_type": "execute_result"
    }
   ],
   "source": [
    "income.head()"
   ]
  },
  {
   "cell_type": "code",
   "execution_count": 4,
   "metadata": {},
   "outputs": [],
   "source": [
    "# rename columns\n",
    "income.columns = ['city', '2016', '2015', '2014', '2013', '2012', '2011', '2010']"
   ]
  },
  {
   "cell_type": "code",
   "execution_count": 5,
   "metadata": {},
   "outputs": [],
   "source": [
    "# unpivot\n",
    "income = pd.melt(income, id_vars=['city'], var_name='year', value_name='median income') \\\n",
    "           .sort_values(['city', 'year']) \\\n",
    "           .reset_index(drop=True)"
   ]
  },
  {
   "cell_type": "code",
   "execution_count": 6,
   "metadata": {},
   "outputs": [
    {
     "data": {
      "text/html": [
       "<div>\n",
       "<style scoped>\n",
       "    .dataframe tbody tr th:only-of-type {\n",
       "        vertical-align: middle;\n",
       "    }\n",
       "\n",
       "    .dataframe tbody tr th {\n",
       "        vertical-align: top;\n",
       "    }\n",
       "\n",
       "    .dataframe thead th {\n",
       "        text-align: right;\n",
       "    }\n",
       "</style>\n",
       "<table border=\"1\" class=\"dataframe\">\n",
       "  <thead>\n",
       "    <tr style=\"text-align: right;\">\n",
       "      <th></th>\n",
       "      <th>city</th>\n",
       "      <th>year</th>\n",
       "      <th>median income</th>\n",
       "    </tr>\n",
       "  </thead>\n",
       "  <tbody>\n",
       "    <tr>\n",
       "      <th>0</th>\n",
       "      <td>Albany, NY</td>\n",
       "      <td>2010</td>\n",
       "      <td>73,470</td>\n",
       "    </tr>\n",
       "    <tr>\n",
       "      <th>1</th>\n",
       "      <td>Albany, NY</td>\n",
       "      <td>2011</td>\n",
       "      <td>75,821</td>\n",
       "    </tr>\n",
       "    <tr>\n",
       "      <th>2</th>\n",
       "      <td>Albany, NY</td>\n",
       "      <td>2012</td>\n",
       "      <td>76,707</td>\n",
       "    </tr>\n",
       "    <tr>\n",
       "      <th>3</th>\n",
       "      <td>Albany, NY</td>\n",
       "      <td>2013</td>\n",
       "      <td>77,687</td>\n",
       "    </tr>\n",
       "    <tr>\n",
       "      <th>4</th>\n",
       "      <td>Albany, NY</td>\n",
       "      <td>2014</td>\n",
       "      <td>78,285</td>\n",
       "    </tr>\n",
       "  </tbody>\n",
       "</table>\n",
       "</div>"
      ],
      "text/plain": [
       "         city  year median income\n",
       "0  Albany, NY  2010        73,470\n",
       "1  Albany, NY  2011        75,821\n",
       "2  Albany, NY  2012        76,707\n",
       "3  Albany, NY  2013        77,687\n",
       "4  Albany, NY  2014        78,285"
      ]
     },
     "execution_count": 6,
     "metadata": {},
     "output_type": "execute_result"
    }
   ],
   "source": [
    "income.head()"
   ]
  },
  {
   "cell_type": "markdown",
   "metadata": {},
   "source": [
    "## Unemployment"
   ]
  },
  {
   "cell_type": "code",
   "execution_count": 20,
   "metadata": {},
   "outputs": [],
   "source": [
    "unemployment = pd.read_csv('Income_Data/cities_unemployment_rate.csv')"
   ]
  },
  {
   "cell_type": "code",
   "execution_count": 21,
   "metadata": {},
   "outputs": [
    {
     "data": {
      "text/html": [
       "<div>\n",
       "<style scoped>\n",
       "    .dataframe tbody tr th:only-of-type {\n",
       "        vertical-align: middle;\n",
       "    }\n",
       "\n",
       "    .dataframe tbody tr th {\n",
       "        vertical-align: top;\n",
       "    }\n",
       "\n",
       "    .dataframe thead th {\n",
       "        text-align: right;\n",
       "    }\n",
       "</style>\n",
       "<table border=\"1\" class=\"dataframe\">\n",
       "  <thead>\n",
       "    <tr style=\"text-align: right;\">\n",
       "      <th></th>\n",
       "      <th>City</th>\n",
       "      <th>Unemployment Rate 2016</th>\n",
       "      <th>Unemployment Rate 2015</th>\n",
       "      <th>Unemployment Rate 2014</th>\n",
       "      <th>Unemployment Rate 2013</th>\n",
       "      <th>Unemployment Rate 2012</th>\n",
       "      <th>Unemployment Rate 2011</th>\n",
       "      <th>Unemployment Rate 2010</th>\n",
       "    </tr>\n",
       "  </thead>\n",
       "  <tbody>\n",
       "    <tr>\n",
       "      <th>0</th>\n",
       "      <td>Birmingham, AL</td>\n",
       "      <td>11.8%</td>\n",
       "      <td>13.3%</td>\n",
       "      <td>14.5%</td>\n",
       "      <td>15.3%</td>\n",
       "      <td>14.5%</td>\n",
       "      <td>13.6%</td>\n",
       "      <td>12.9%</td>\n",
       "    </tr>\n",
       "    <tr>\n",
       "      <th>1</th>\n",
       "      <td>Montgomery, AL</td>\n",
       "      <td>8.4%</td>\n",
       "      <td>8.8%</td>\n",
       "      <td>8.9%</td>\n",
       "      <td>8.9%</td>\n",
       "      <td>8.7%</td>\n",
       "      <td>8.6%</td>\n",
       "      <td>7.9%</td>\n",
       "    </tr>\n",
       "    <tr>\n",
       "      <th>2</th>\n",
       "      <td>Anchorage, AK</td>\n",
       "      <td>6.0%</td>\n",
       "      <td>6.7%</td>\n",
       "      <td>6.9%</td>\n",
       "      <td>7.3%</td>\n",
       "      <td>7.3%</td>\n",
       "      <td>7.2%</td>\n",
       "      <td>7.4%</td>\n",
       "    </tr>\n",
       "    <tr>\n",
       "      <th>3</th>\n",
       "      <td>Juneau, AK</td>\n",
       "      <td>4.9%</td>\n",
       "      <td>5.2%</td>\n",
       "      <td>5.6%</td>\n",
       "      <td>5.3%</td>\n",
       "      <td>5.1%</td>\n",
       "      <td>5.3%</td>\n",
       "      <td>5.8%</td>\n",
       "    </tr>\n",
       "    <tr>\n",
       "      <th>4</th>\n",
       "      <td>Phoenix, AZ</td>\n",
       "      <td>7.7%</td>\n",
       "      <td>8.8%</td>\n",
       "      <td>9.9%</td>\n",
       "      <td>10.6%</td>\n",
       "      <td>9.7%</td>\n",
       "      <td>8.7%</td>\n",
       "      <td>7.4%</td>\n",
       "    </tr>\n",
       "  </tbody>\n",
       "</table>\n",
       "</div>"
      ],
      "text/plain": [
       "             City Unemployment Rate 2016 Unemployment Rate 2015  \\\n",
       "0  Birmingham, AL                  11.8%                  13.3%   \n",
       "1  Montgomery, AL                   8.4%                   8.8%   \n",
       "2   Anchorage, AK                   6.0%                   6.7%   \n",
       "3      Juneau, AK                   4.9%                   5.2%   \n",
       "4     Phoenix, AZ                   7.7%                   8.8%   \n",
       "\n",
       "  Unemployment Rate 2014 Unemployment Rate 2013 Unemployment Rate 2012  \\\n",
       "0                  14.5%                  15.3%                  14.5%   \n",
       "1                   8.9%                   8.9%                   8.7%   \n",
       "2                   6.9%                   7.3%                   7.3%   \n",
       "3                   5.6%                   5.3%                   5.1%   \n",
       "4                   9.9%                  10.6%                   9.7%   \n",
       "\n",
       "  Unemployment Rate 2011 Unemployment Rate 2010  \n",
       "0                  13.6%                  12.9%  \n",
       "1                   8.6%                   7.9%  \n",
       "2                   7.2%                   7.4%  \n",
       "3                   5.3%                   5.8%  \n",
       "4                   8.7%                   7.4%  "
      ]
     },
     "execution_count": 21,
     "metadata": {},
     "output_type": "execute_result"
    }
   ],
   "source": [
    "unemployment.head()"
   ]
  },
  {
   "cell_type": "code",
   "execution_count": 22,
   "metadata": {},
   "outputs": [],
   "source": [
    "# rename columns\n",
    "unemployment.columns = ['city', '2016', '2015', '2014', '2013', '2012', '2011', '2010']"
   ]
  },
  {
   "cell_type": "code",
   "execution_count": 23,
   "metadata": {},
   "outputs": [],
   "source": [
    "# unpivot\n",
    "unemployment = pd.melt(unemployment, id_vars=['city'], var_name='year', value_name='unemployment rate') \\\n",
    "           .sort_values(['city', 'year']) \\\n",
    "           .reset_index(drop=True)"
   ]
  },
  {
   "cell_type": "code",
   "execution_count": 25,
   "metadata": {},
   "outputs": [],
   "source": [
    "# convert percentages to decimals\n",
    "unemployment['unemployment rate'] = unemployment['unemployment rate'] \\\n",
    "                                    .map(lambda rate: float(rate.rstrip('%'))/100)"
   ]
  },
  {
   "cell_type": "code",
   "execution_count": 26,
   "metadata": {},
   "outputs": [
    {
     "data": {
      "text/html": [
       "<div>\n",
       "<style scoped>\n",
       "    .dataframe tbody tr th:only-of-type {\n",
       "        vertical-align: middle;\n",
       "    }\n",
       "\n",
       "    .dataframe tbody tr th {\n",
       "        vertical-align: top;\n",
       "    }\n",
       "\n",
       "    .dataframe thead th {\n",
       "        text-align: right;\n",
       "    }\n",
       "</style>\n",
       "<table border=\"1\" class=\"dataframe\">\n",
       "  <thead>\n",
       "    <tr style=\"text-align: right;\">\n",
       "      <th></th>\n",
       "      <th>city</th>\n",
       "      <th>year</th>\n",
       "      <th>unemployment rate</th>\n",
       "    </tr>\n",
       "  </thead>\n",
       "  <tbody>\n",
       "    <tr>\n",
       "      <th>0</th>\n",
       "      <td>Albany, NY</td>\n",
       "      <td>2010</td>\n",
       "      <td>0.060</td>\n",
       "    </tr>\n",
       "    <tr>\n",
       "      <th>1</th>\n",
       "      <td>Albany, NY</td>\n",
       "      <td>2011</td>\n",
       "      <td>0.065</td>\n",
       "    </tr>\n",
       "    <tr>\n",
       "      <th>2</th>\n",
       "      <td>Albany, NY</td>\n",
       "      <td>2012</td>\n",
       "      <td>0.070</td>\n",
       "    </tr>\n",
       "    <tr>\n",
       "      <th>3</th>\n",
       "      <td>Albany, NY</td>\n",
       "      <td>2013</td>\n",
       "      <td>0.073</td>\n",
       "    </tr>\n",
       "    <tr>\n",
       "      <th>4</th>\n",
       "      <td>Albany, NY</td>\n",
       "      <td>2014</td>\n",
       "      <td>0.068</td>\n",
       "    </tr>\n",
       "  </tbody>\n",
       "</table>\n",
       "</div>"
      ],
      "text/plain": [
       "         city  year  unemployment rate\n",
       "0  Albany, NY  2010              0.060\n",
       "1  Albany, NY  2011              0.065\n",
       "2  Albany, NY  2012              0.070\n",
       "3  Albany, NY  2013              0.073\n",
       "4  Albany, NY  2014              0.068"
      ]
     },
     "execution_count": 26,
     "metadata": {},
     "output_type": "execute_result"
    }
   ],
   "source": [
    "unemployment.head()"
   ]
  },
  {
   "cell_type": "markdown",
   "metadata": {},
   "source": [
    "## Traffic"
   ]
  },
  {
   "cell_type": "code",
   "execution_count": 27,
   "metadata": {},
   "outputs": [],
   "source": [
    "traffic = pd.read_csv('Income_Data/cities_mean_commute_time.csv')"
   ]
  },
  {
   "cell_type": "code",
   "execution_count": 28,
   "metadata": {},
   "outputs": [
    {
     "data": {
      "text/html": [
       "<div>\n",
       "<style scoped>\n",
       "    .dataframe tbody tr th:only-of-type {\n",
       "        vertical-align: middle;\n",
       "    }\n",
       "\n",
       "    .dataframe tbody tr th {\n",
       "        vertical-align: top;\n",
       "    }\n",
       "\n",
       "    .dataframe thead th {\n",
       "        text-align: right;\n",
       "    }\n",
       "</style>\n",
       "<table border=\"1\" class=\"dataframe\">\n",
       "  <thead>\n",
       "    <tr style=\"text-align: right;\">\n",
       "      <th></th>\n",
       "      <th>City</th>\n",
       "      <th>Mean Commute Time 2016</th>\n",
       "      <th>Mean Commute Time 2015</th>\n",
       "      <th>Mean Commute Time 2014</th>\n",
       "      <th>Mean Commute Time 2013</th>\n",
       "      <th>Mean Commute Time 2012</th>\n",
       "      <th>Mean Commute Time 2011</th>\n",
       "      <th>Mean Commute Time 2010</th>\n",
       "    </tr>\n",
       "  </thead>\n",
       "  <tbody>\n",
       "    <tr>\n",
       "      <th>0</th>\n",
       "      <td>Birmingham, AL</td>\n",
       "      <td>21.4</td>\n",
       "      <td>21.4</td>\n",
       "      <td>21.6</td>\n",
       "      <td>21.7</td>\n",
       "      <td>21.8</td>\n",
       "      <td>21.7</td>\n",
       "      <td>22.0</td>\n",
       "    </tr>\n",
       "    <tr>\n",
       "      <th>1</th>\n",
       "      <td>Montgomery, AL</td>\n",
       "      <td>20.0</td>\n",
       "      <td>19.3</td>\n",
       "      <td>19.5</td>\n",
       "      <td>19.3</td>\n",
       "      <td>19.5</td>\n",
       "      <td>19.5</td>\n",
       "      <td>19.7</td>\n",
       "    </tr>\n",
       "    <tr>\n",
       "      <th>2</th>\n",
       "      <td>Anchorage, AK</td>\n",
       "      <td>19.1</td>\n",
       "      <td>19.5</td>\n",
       "      <td>19.4</td>\n",
       "      <td>19.4</td>\n",
       "      <td>19.0</td>\n",
       "      <td>18.6</td>\n",
       "      <td>18.2</td>\n",
       "    </tr>\n",
       "    <tr>\n",
       "      <th>3</th>\n",
       "      <td>Juneau, AK</td>\n",
       "      <td>15.6</td>\n",
       "      <td>15.1</td>\n",
       "      <td>14.8</td>\n",
       "      <td>15.1</td>\n",
       "      <td>15.5</td>\n",
       "      <td>15.2</td>\n",
       "      <td>15.3</td>\n",
       "    </tr>\n",
       "    <tr>\n",
       "      <th>4</th>\n",
       "      <td>Phoenix, AZ</td>\n",
       "      <td>25.1</td>\n",
       "      <td>24.8</td>\n",
       "      <td>24.5</td>\n",
       "      <td>24.4</td>\n",
       "      <td>24.4</td>\n",
       "      <td>24.7</td>\n",
       "      <td>24.8</td>\n",
       "    </tr>\n",
       "  </tbody>\n",
       "</table>\n",
       "</div>"
      ],
      "text/plain": [
       "             City  Mean Commute Time 2016  Mean Commute Time 2015  \\\n",
       "0  Birmingham, AL                    21.4                    21.4   \n",
       "1  Montgomery, AL                    20.0                    19.3   \n",
       "2   Anchorage, AK                    19.1                    19.5   \n",
       "3      Juneau, AK                    15.6                    15.1   \n",
       "4     Phoenix, AZ                    25.1                    24.8   \n",
       "\n",
       "   Mean Commute Time 2014  Mean Commute Time 2013  Mean Commute Time 2012  \\\n",
       "0                    21.6                    21.7                    21.8   \n",
       "1                    19.5                    19.3                    19.5   \n",
       "2                    19.4                    19.4                    19.0   \n",
       "3                    14.8                    15.1                    15.5   \n",
       "4                    24.5                    24.4                    24.4   \n",
       "\n",
       "   Mean Commute Time 2011  Mean Commute Time 2010  \n",
       "0                    21.7                    22.0  \n",
       "1                    19.5                    19.7  \n",
       "2                    18.6                    18.2  \n",
       "3                    15.2                    15.3  \n",
       "4                    24.7                    24.8  "
      ]
     },
     "execution_count": 28,
     "metadata": {},
     "output_type": "execute_result"
    }
   ],
   "source": [
    "traffic.head()"
   ]
  },
  {
   "cell_type": "code",
   "execution_count": 29,
   "metadata": {},
   "outputs": [],
   "source": [
    "# rename columns\n",
    "traffic.columns = ['city', '2016', '2015', '2014', '2013', '2012', '2011', '2010']"
   ]
  },
  {
   "cell_type": "code",
   "execution_count": 31,
   "metadata": {},
   "outputs": [],
   "source": [
    "# unpivot\n",
    "traffic = pd.melt(traffic, id_vars=['city'], var_name='year', value_name='mean commute time') \\\n",
    "           .sort_values(['city', 'year']) \\\n",
    "           .reset_index(drop=True)"
   ]
  },
  {
   "cell_type": "code",
   "execution_count": 32,
   "metadata": {},
   "outputs": [
    {
     "data": {
      "text/html": [
       "<div>\n",
       "<style scoped>\n",
       "    .dataframe tbody tr th:only-of-type {\n",
       "        vertical-align: middle;\n",
       "    }\n",
       "\n",
       "    .dataframe tbody tr th {\n",
       "        vertical-align: top;\n",
       "    }\n",
       "\n",
       "    .dataframe thead th {\n",
       "        text-align: right;\n",
       "    }\n",
       "</style>\n",
       "<table border=\"1\" class=\"dataframe\">\n",
       "  <thead>\n",
       "    <tr style=\"text-align: right;\">\n",
       "      <th></th>\n",
       "      <th>city</th>\n",
       "      <th>year</th>\n",
       "      <th>mean commute time</th>\n",
       "    </tr>\n",
       "  </thead>\n",
       "  <tbody>\n",
       "    <tr>\n",
       "      <th>0</th>\n",
       "      <td>Albany, NY</td>\n",
       "      <td>2010</td>\n",
       "      <td>19.7</td>\n",
       "    </tr>\n",
       "    <tr>\n",
       "      <th>1</th>\n",
       "      <td>Albany, NY</td>\n",
       "      <td>2011</td>\n",
       "      <td>19.9</td>\n",
       "    </tr>\n",
       "    <tr>\n",
       "      <th>2</th>\n",
       "      <td>Albany, NY</td>\n",
       "      <td>2012</td>\n",
       "      <td>20.0</td>\n",
       "    </tr>\n",
       "    <tr>\n",
       "      <th>3</th>\n",
       "      <td>Albany, NY</td>\n",
       "      <td>2013</td>\n",
       "      <td>20.0</td>\n",
       "    </tr>\n",
       "    <tr>\n",
       "      <th>4</th>\n",
       "      <td>Albany, NY</td>\n",
       "      <td>2014</td>\n",
       "      <td>20.1</td>\n",
       "    </tr>\n",
       "  </tbody>\n",
       "</table>\n",
       "</div>"
      ],
      "text/plain": [
       "         city  year  mean commute time\n",
       "0  Albany, NY  2010               19.7\n",
       "1  Albany, NY  2011               19.9\n",
       "2  Albany, NY  2012               20.0\n",
       "3  Albany, NY  2013               20.0\n",
       "4  Albany, NY  2014               20.1"
      ]
     },
     "execution_count": 32,
     "metadata": {},
     "output_type": "execute_result"
    }
   ],
   "source": [
    "traffic.head()"
   ]
  },
  {
   "cell_type": "markdown",
   "metadata": {},
   "source": [
    "## Crime"
   ]
  },
  {
   "cell_type": "code",
   "execution_count": null,
   "metadata": {},
   "outputs": [],
   "source": []
  },
  {
   "cell_type": "markdown",
   "metadata": {},
   "source": [
    "## Happiness"
   ]
  },
  {
   "cell_type": "code",
   "execution_count": null,
   "metadata": {},
   "outputs": [],
   "source": []
  },
  {
   "cell_type": "markdown",
   "metadata": {},
   "source": [
    "# Data Visualization"
   ]
  },
  {
   "cell_type": "code",
   "execution_count": null,
   "metadata": {},
   "outputs": [],
   "source": []
  },
  {
   "cell_type": "markdown",
   "metadata": {},
   "source": [
    "# Data Anaylsis and Results"
   ]
  },
  {
   "cell_type": "code",
   "execution_count": null,
   "metadata": {},
   "outputs": [],
   "source": []
  },
  {
   "cell_type": "markdown",
   "metadata": {},
   "source": [
    "# Privacy/Ethics Considerations"
   ]
  },
  {
   "cell_type": "code",
   "execution_count": null,
   "metadata": {},
   "outputs": [],
   "source": []
  },
  {
   "cell_type": "markdown",
   "metadata": {},
   "source": [
    "# Conclusions and Discussion"
   ]
  },
  {
   "cell_type": "code",
   "execution_count": null,
   "metadata": {},
   "outputs": [],
   "source": []
  }
 ],
 "metadata": {
  "kernelspec": {
   "display_name": "Python 3",
   "language": "python",
   "name": "python3"
  },
  "language_info": {
   "codemirror_mode": {
    "name": "ipython",
    "version": 3
   },
   "file_extension": ".py",
   "mimetype": "text/x-python",
   "name": "python",
   "nbconvert_exporter": "python",
   "pygments_lexer": "ipython3",
   "version": "3.6.4"
  }
 },
 "nbformat": 4,
 "nbformat_minor": 2
}
