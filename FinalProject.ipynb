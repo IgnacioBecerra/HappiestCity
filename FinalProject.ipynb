{
 "cells": [
  {
   "cell_type": "markdown",
   "metadata": {},
   "source": [
    "# $\\textrm{Introdution and Background}$"
   ]
  },
  {
   "cell_type": "code",
   "execution_count": null,
   "metadata": {
    "collapsed": true
   },
   "outputs": [],
   "source": []
  },
  {
   "cell_type": "markdown",
   "metadata": {},
   "source": [
    "# $\\textrm{Data Description}$"
   ]
  },
  {
   "cell_type": "markdown",
   "metadata": {},
   "source": [
    "We ran into a couple problems looking for the income data, since we did not find a consistent stream of data for all of our cities. We eventually found the FactsFinder webpage that contains all the Census data from the United States (https://factfinder.census.gov/faces/nav/jsf/pages/index.xhtml). \n",
    "\n",
    "We were able to successfully find the income of a couple of cities from 2010-2016, and decided to scrape the income data from this website. Another roadblock we ran into was the fact that the website utilizes JavaScript, and the data we wanted to scrape was not readily available to us inside the HTML source code. Instead of using an API such as Mechanize or BeautifulSoup, we had to use Selenium Webdriver, a tool that esentially opens a \"hidden\" browser that can access the \"generated\" JavaScript HTML code that is not displayed the moment we access a page.\n",
    "\n",
    "Yet another critical error kept happening, the fact that Selenium was way too fast and tried to scrape the text that was still loading, resulting in many errors. The only way we managed to fix this was to use Python's time package and make the code stop for 5 seconds before trying to scrape the next set of data from a new page. Lesser values worked sometimes, but we were relying on the internet connection speed, which varied over time. Waiting five seconds made it possible to scrape any kind of data we wanted without running into errors. Doing so made the scraping code take more than an hour, however. We saved the resultant dataframes and converted into CSV files for easy data analysis. \n",
    "\n",
    "The next cell contains the scraping code for the median income, unemployment rate, and mean commute time. It is not recommended to run it, because it takes a long time for it to work. "
   ]
  },
  {
   "cell_type": "code",
   "execution_count": null,
   "metadata": {
    "collapsed": true
   },
   "outputs": [],
   "source": [
    "# Importing packages we need\n",
    "import numpy as np\n",
    "import pandas as pd\n",
    "from selenium import webdriver\n",
    "from selenium.webdriver.chrome.options import Options \n",
    "import selenium.webdriver.support.ui as ui\n",
    "import time\n",
    "\n",
    "# Make Selenium invisible for running\n",
    "chrome_options = Options()  \n",
    "chrome_options.add_argument(\"--headless\")\n",
    "br = webdriver.Chrome(chrome_options=chrome_options, executable_path=r'./chromedriver.exe')"
   ]
  },
  {
   "cell_type": "code",
   "execution_count": 11,
   "metadata": {
    "collapsed": true
   },
   "outputs": [],
   "source": [
    "# Warning: code takes more than an hour to run since we have to wait until every\n",
    "# page's Javascript content loads. That takes around 1-2 seconds normally, but\n",
    "# sometimes may take one second longer than that, causing the program to crash.\n",
    "# We use 5 seconds just in case, to avoid any possible hangups in the process.\n",
    "\n",
    "# Scrapes median income, unemployment rate, and mean commute times of every city\n",
    "def scraping_cities(city, row):\n",
    "  \n",
    "    br.get(\"https://factfinder.census.gov/faces/nav/jsf/pages/community_facts.xhtml\")\n",
    "    wait = ui.WebDriverWait(br,15)\n",
    "    time.sleep(2)\n",
    "    # Types search terms for a city\n",
    "    element = wait.until(lambda br:br.find_element_by_id('cfsearchtextbox'))\n",
    "    element.clear()\n",
    "    element.send_keys(city)\n",
    "\n",
    "    # Submits form\n",
    "    element =  wait.until(lambda br: br.find_element_by_xpath('//*[@id=\"communityfactssubmit\"]'))\n",
    "    element.click()\n",
    "\n",
    "    # Clicking the income tab\n",
    "    time.sleep(2.5)\n",
    "    element = wait.until(lambda br:br.find_element_by_xpath('//*[@id=\"leftnav\"]/a[7]'))\n",
    "    element.click()\n",
    "\n",
    "    # Getting table link\n",
    "    time.sleep(2.5)\n",
    "    element = wait.until(lambda br:br.find_element_by_xpath('//*[@id=\"cf-content\"]/div[2]/div[1]/ul[1]/li[1]/div/a'))\n",
    "    href = element.get_attribute('href')\n",
    "    br.get(href)\n",
    "\n",
    "    # Loop to scrape data from 2016 to 2010\n",
    "    for i in range(2, 9):\n",
    "        time.sleep(5)\n",
    "            \n",
    "        # Append unemployment rate\n",
    "        element = wait.until(lambda br:br.find_element_by_xpath('//*[@id=\"data\"]/tbody/tr[11]/td[3]'))\n",
    "        unemploymentDF.iloc[row, i-2] = element.text\n",
    "        \n",
    "        # Append commute time rate\n",
    "        element = wait.until(lambda br:br.find_element_by_xpath('//*[@id=\"data\"]/tbody/tr[33]/td[1]'))\n",
    "        commuteDF.iloc[row, i-2] = element.text\n",
    "        \n",
    "        # Append median income data\n",
    "        element = wait.until(lambda br:br.find_element_by_xpath('//*[@id=\"data\"]/tbody/tr[79]/td[1]'))\n",
    "        incomeDF.iloc[row, i-2] = element.text\n",
    "        \n",
    "        # Stop from getting nonexistent element\n",
    "        if i == 8:\n",
    "            break\n",
    "        \n",
    "        # Get previous year\n",
    "        element = wait.until(lambda br:br.find_element_by_xpath('//*[@id=\"year_selector_content\"]/ul/li['+ str(i) +']/a'))\n",
    "        element.click()\n"
   ]
  },
  {
   "cell_type": "markdown",
   "metadata": {},
   "source": [
    "In the next cell, we get the list of cities that we are working with, and create the Pandas data frame objects to store all the information we need. We run while loops with the parser function to append elements to a new row, and modify column (year) values per dataframe. \n",
    "\n",
    "There are three resultant CSV files:\n",
    "--cities_median_income.csv\n",
    "--cities_unemployment_rate.csv\n",
    "--cities_mean_commute_time.csv"
   ]
  },
  {
   "cell_type": "markdown",
   "metadata": {},
   "source": [
    "# $\\textrm{Data Cleaning/Preprocessing}$"
   ]
  },
  {
   "cell_type": "code",
   "execution_count": 1,
   "metadata": {
    "collapsed": true
   },
   "outputs": [],
   "source": [
    "import pandas as pd\n",
    "import numpy as np\n",
    "import scipy.interpolate as sp_interpolate"
   ]
  },
  {
   "cell_type": "code",
   "execution_count": 2,
   "metadata": {},
   "outputs": [],
   "source": [
    "# our original wishlist of cities\n",
    "cities = [\n",
    "    \"Birmingham, AL\",\n",
    "    \"Montgomery, AL\",\n",
    "    \"Anchorage, AK\",\n",
    "    \"Juneau, AK\",\n",
    "    \"Phoenix, AZ\",\n",
    "    \"Tucson, AZ\",\n",
    "    \"Little Rock, AR\",\n",
    "    \"Fort Smith, AR\",\n",
    "    \"San Diego, CA\",\n",
    "    \"Los Angeles, CA\",\n",
    "    \"Sacramento, CA\",\n",
    "    \"Denver, CO\",\n",
    "    \"Colorado Springs, CO\",\n",
    "    \"Aurora, CO\",\n",
    "    \"Bridgeport, CT\",\n",
    "    \"Hartford, CT\",\n",
    "    \"Dover, DE\",\n",
    "    \"Wilmington, DE\",\n",
    "    \"Jacksonville, FL\",\n",
    "    \"Miami, FL\",\n",
    "    \"Tallahassee, FL\",\n",
    "    \"Atlanta, GA\",\n",
    "    \"Savannah, GA\",\n",
    "    \"Honolulu, HI\",\n",
    "    \"Kauai, HI\",\n",
    "    \"Maui, HI\",\n",
    "    \"Boise, ID\",\n",
    "    \"Meridian, ID\",\n",
    "    \"Chicago, IL\",\n",
    "    \"Springfield, IL\",\n",
    "    \"Fort Wayne, IN\",\n",
    "    \"Indianapolis, IN\",\n",
    "    \"Cedar Rapids, IA\",\n",
    "    \"Des Moines, IA\",\n",
    "    \"Topeka, KS\",\n",
    "    \"Wichita, KS\",\n",
    "    \"Frankfort, KY\",\n",
    "    \"Louisville, KY\",\n",
    "    \"Baton Rouge, LA\",\n",
    "    \"New Orleans, LA\",\n",
    "    \"Augusta, ME\",\n",
    "    \"Portland, ME\",\n",
    "    \"Baltimore, MD\",\n",
    "    \"Annapolis, MD\",\n",
    "    \"Boston, MA\",\n",
    "    \"Worcester, MA\",\n",
    "    \"Detroit, MA\",\n",
    "    \"Lansing, MA\",\n",
    "    \"Minneapolis, MN\",\n",
    "    \"Saint Paul, MN\",\n",
    "    \"Jackson, MS\",\n",
    "    \"Gulfport, MS\",\n",
    "    \"Kansas City, MO\",\n",
    "    \"Jefferson City, MO\",\n",
    "    \"Billings, MT\",\n",
    "    \"Helena, MT\",\n",
    "    \"Lincoln, NE\",\n",
    "    \"Omaha, NE\",\n",
    "    \"Carson City, NV\",\n",
    "    \"Las Vegas, NV\",\n",
    "    \"Reno, NV\",\n",
    "    \"Concord, NH\",\n",
    "    \"Manchester, NH\",\n",
    "    \"Newark, NJ\",\n",
    "    \"Trenton, NJ\",\n",
    "    \"Albuquerque, NM\",\n",
    "    \"Santa Fe, NM\",\n",
    "    \"Albany, NY\",\n",
    "    \"New York City, NY\",\n",
    "    \"Charlotte, NC\",\n",
    "    \"Raleigh, NC\",\n",
    "    \"Bismarck, ND\",\n",
    "    \"Fargo, ND\",\n",
    "    \"Columbus, OH\",\n",
    "    \"Cleveland, OH\",\n",
    "    \"Oklahoma City, OK\",\n",
    "    \"Tulsa, OK\",\n",
    "    \"Portland, OR\",\n",
    "    \"Salem, OR\",\n",
    "    \"Harrisburg, PA\",\n",
    "    \"Philadelphia, PA\",\n",
    "    \"Providence, RI\",\n",
    "    \"Warwick, RI\",\n",
    "    \"Charleston, SC\",\n",
    "    \"Columbia, SC\",\n",
    "    \"Pierre, SD\",\n",
    "    \"Sioux Falls, SD\",\n",
    "    \"Nashville, TN\",\n",
    "    \"Memphis, TN\",\n",
    "    \"Austin, TX\",\n",
    "    \"El Paso, TX\",\n",
    "    \"Houston, TX\",\n",
    "    \"Salt Lake City, UT\",\n",
    "    \"West Valley City, UT\",\n",
    "    \"Burlington, VT\",\n",
    "    \"Montpelier, VT\",\n",
    "    \"Richmond, VA\",\n",
    "    \"Virginia Beach, VA\",\n",
    "    \"Olympia, WA\",\n",
    "    \"Seattle, WA\",\n",
    "    \"Charleston, WV\",\n",
    "    \"Huntington, WV\",\n",
    "    \"Madison, WI\",\n",
    "    \"Milwaukee, WI\",\n",
    "    \"Casper, WY\",\n",
    "    \"Cheyenne, WY\"\n",
    "]"
   ]
  },
  {
   "cell_type": "markdown",
   "metadata": {},
   "source": [
    "## Income\n",
    "\n",
    "There is a general belief that the wealthier people are the happier they are. There is research on the matter correlating happiness to a sudden money increase (http://time.com/4856954/can-money-buy-you-happiness/), but over time, people will compare themselves to other rich people and they want more and more and the search of happiness never stops... Or does it?\n",
    "\n",
    "Whether or not money makes people happier, it is a definitely an important part in people's lives. With money, people are able to buy houses, commodities, and luxuries. We are interested to know what city is the happiest depending on many factors, and income should be one of the most important of them. \n",
    "\n",
    "In order for our happiness model to be able to predict future values, we need to look at income in a longitudinal manner. In other words, we need data from the recent past to start building our model."
   ]
  },
  {
   "cell_type": "code",
   "execution_count": 9,
   "metadata": {},
   "outputs": [
    {
     "data": {
      "text/html": [
       "<div>\n",
       "<style>\n",
       "    .dataframe thead tr:only-child th {\n",
       "        text-align: right;\n",
       "    }\n",
       "\n",
       "    .dataframe thead th {\n",
       "        text-align: left;\n",
       "    }\n",
       "\n",
       "    .dataframe tbody tr th {\n",
       "        vertical-align: top;\n",
       "    }\n",
       "</style>\n",
       "<table border=\"1\" class=\"dataframe\">\n",
       "  <thead>\n",
       "    <tr style=\"text-align: right;\">\n",
       "      <th></th>\n",
       "      <th>City</th>\n",
       "      <th>Median Income 2016</th>\n",
       "      <th>Median Income 2015</th>\n",
       "      <th>Median Income 2014</th>\n",
       "      <th>Median Income 2013</th>\n",
       "      <th>Median Income 2012</th>\n",
       "      <th>Median Income 2011</th>\n",
       "      <th>Median Income 2010</th>\n",
       "    </tr>\n",
       "  </thead>\n",
       "  <tbody>\n",
       "    <tr>\n",
       "      <th>0</th>\n",
       "      <td>Birmingham, AL</td>\n",
       "      <td>46,346</td>\n",
       "      <td>44,463</td>\n",
       "      <td>44,447</td>\n",
       "      <td>44,716</td>\n",
       "      <td>44,710</td>\n",
       "      <td>45,423</td>\n",
       "      <td>45,198</td>\n",
       "    </tr>\n",
       "    <tr>\n",
       "      <th>1</th>\n",
       "      <td>Montgomery, AL</td>\n",
       "      <td>63,847</td>\n",
       "      <td>62,201</td>\n",
       "      <td>62,568</td>\n",
       "      <td>62,418</td>\n",
       "      <td>61,896</td>\n",
       "      <td>62,645</td>\n",
       "      <td>61,229</td>\n",
       "    </tr>\n",
       "    <tr>\n",
       "      <th>2</th>\n",
       "      <td>Anchorage, AK</td>\n",
       "      <td>102,500</td>\n",
       "      <td>99,630</td>\n",
       "      <td>98,317</td>\n",
       "      <td>96,935</td>\n",
       "      <td>95,632</td>\n",
       "      <td>94,073</td>\n",
       "      <td>91,251</td>\n",
       "    </tr>\n",
       "    <tr>\n",
       "      <th>3</th>\n",
       "      <td>Juneau, AK</td>\n",
       "      <td>104,005</td>\n",
       "      <td>102,355</td>\n",
       "      <td>97,588</td>\n",
       "      <td>96,025</td>\n",
       "      <td>95,433</td>\n",
       "      <td>93,994</td>\n",
       "      <td>89,373</td>\n",
       "    </tr>\n",
       "    <tr>\n",
       "      <th>4</th>\n",
       "      <td>Phoenix, AZ</td>\n",
       "      <td>69,216</td>\n",
       "      <td>66,345</td>\n",
       "      <td>65,770</td>\n",
       "      <td>65,199</td>\n",
       "      <td>65,968</td>\n",
       "      <td>66,709</td>\n",
       "      <td>66,996</td>\n",
       "    </tr>\n",
       "  </tbody>\n",
       "</table>\n",
       "</div>"
      ],
      "text/plain": [
       "             City Median Income 2016 Median Income 2015 Median Income 2014  \\\n",
       "0  Birmingham, AL             46,346             44,463             44,447   \n",
       "1  Montgomery, AL             63,847             62,201             62,568   \n",
       "2   Anchorage, AK            102,500             99,630             98,317   \n",
       "3      Juneau, AK            104,005            102,355             97,588   \n",
       "4     Phoenix, AZ             69,216             66,345             65,770   \n",
       "\n",
       "  Median Income 2013 Median Income 2012 Median Income 2011 Median Income 2010  \n",
       "0             44,716             44,710             45,423             45,198  \n",
       "1             62,418             61,896             62,645             61,229  \n",
       "2             96,935             95,632             94,073             91,251  \n",
       "3             96,025             95,433             93,994             89,373  \n",
       "4             65,199             65,968             66,709             66,996  "
      ]
     },
     "execution_count": 9,
     "metadata": {},
     "output_type": "execute_result"
    }
   ],
   "source": [
    "income = pd.read_csv('Income_Data/cities_median_income.csv')\n",
    "income.head()"
   ]
  },
  {
   "cell_type": "code",
   "execution_count": 4,
   "metadata": {
    "collapsed": true
   },
   "outputs": [],
   "source": [
    "# rename columns\n",
    "income.columns = ['city', '2016', '2015', '2014', '2013', '2012', '2011', '2010']"
   ]
  },
  {
   "cell_type": "code",
   "execution_count": 5,
   "metadata": {
    "collapsed": true
   },
   "outputs": [],
   "source": [
    "# capitalize \"city\" in \"Salt Lake City\"\n",
    "income.loc[income['city'] == \"Salt Lake city, UT\", 'city'] = \"Salt Lake City, UT\""
   ]
  },
  {
   "cell_type": "code",
   "execution_count": 6,
   "metadata": {},
   "outputs": [],
   "source": [
    "# unpivot\n",
    "income = pd.melt(income, id_vars=['city'], var_name='year', value_name='median income') \\\n",
    "           .sort_values(['city', 'year']) \\\n",
    "           .reset_index(drop=True)"
   ]
  },
  {
   "cell_type": "code",
   "execution_count": 7,
   "metadata": {},
   "outputs": [],
   "source": [
    "# convert strings to numbers\n",
    "income['median income'] = income['median income'].map(lambda value: int(value.replace(',', '')))"
   ]
  },
  {
   "cell_type": "code",
   "execution_count": 8,
   "metadata": {},
   "outputs": [],
   "source": [
    "# convert to MultiIndex\n",
    "income.set_index(['city', 'year'], inplace=True)"
   ]
  },
  {
   "cell_type": "code",
   "execution_count": 9,
   "metadata": {},
   "outputs": [
    {
     "data": {
      "text/html": [
       "<div>\n",
       "<style scoped>\n",
       "    .dataframe tbody tr th:only-of-type {\n",
       "        vertical-align: middle;\n",
       "    }\n",
       "\n",
       "    .dataframe tbody tr th {\n",
       "        vertical-align: top;\n",
       "    }\n",
       "\n",
       "    .dataframe thead th {\n",
       "        text-align: right;\n",
       "    }\n",
       "</style>\n",
       "<table border=\"1\" class=\"dataframe\">\n",
       "  <thead>\n",
       "    <tr style=\"text-align: right;\">\n",
       "      <th></th>\n",
       "      <th></th>\n",
       "      <th>median income</th>\n",
       "    </tr>\n",
       "    <tr>\n",
       "      <th>city</th>\n",
       "      <th>year</th>\n",
       "      <th></th>\n",
       "    </tr>\n",
       "  </thead>\n",
       "  <tbody>\n",
       "    <tr>\n",
       "      <th rowspan=\"5\" valign=\"top\">Albany, NY</th>\n",
       "      <th>2010</th>\n",
       "      <td>73470</td>\n",
       "    </tr>\n",
       "    <tr>\n",
       "      <th>2011</th>\n",
       "      <td>75821</td>\n",
       "    </tr>\n",
       "    <tr>\n",
       "      <th>2012</th>\n",
       "      <td>76707</td>\n",
       "    </tr>\n",
       "    <tr>\n",
       "      <th>2013</th>\n",
       "      <td>77687</td>\n",
       "    </tr>\n",
       "    <tr>\n",
       "      <th>2014</th>\n",
       "      <td>78285</td>\n",
       "    </tr>\n",
       "  </tbody>\n",
       "</table>\n",
       "</div>"
      ],
      "text/plain": [
       "                 median income\n",
       "city       year               \n",
       "Albany, NY 2010          73470\n",
       "           2011          75821\n",
       "           2012          76707\n",
       "           2013          77687\n",
       "           2014          78285"
      ]
     },
     "execution_count": 9,
     "metadata": {},
     "output_type": "execute_result"
    }
   ],
   "source": [
    "income.head()"
   ]
  },
  {
   "cell_type": "markdown",
   "metadata": {},
   "source": [
    "## Unemployment"
   ]
  },
  {
   "cell_type": "code",
   "execution_count": 20,
   "metadata": {
    "collapsed": true
   },
   "outputs": [],
   "source": [
    "unemployment = pd.read_csv('Income_Data/cities_unemployment_rate.csv')"
   ]
  },
  {
   "cell_type": "code",
   "execution_count": 21,
   "metadata": {},
   "outputs": [
    {
     "data": {
      "text/html": [
       "<div>\n",
       "<style scoped>\n",
       "    .dataframe tbody tr th:only-of-type {\n",
       "        vertical-align: middle;\n",
       "    }\n",
       "\n",
       "    .dataframe tbody tr th {\n",
       "        vertical-align: top;\n",
       "    }\n",
       "\n",
       "    .dataframe thead th {\n",
       "        text-align: right;\n",
       "    }\n",
       "</style>\n",
       "<table border=\"1\" class=\"dataframe\">\n",
       "  <thead>\n",
       "    <tr style=\"text-align: right;\">\n",
       "      <th></th>\n",
       "      <th>City</th>\n",
       "      <th>Unemployment Rate 2016</th>\n",
       "      <th>Unemployment Rate 2015</th>\n",
       "      <th>Unemployment Rate 2014</th>\n",
       "      <th>Unemployment Rate 2013</th>\n",
       "      <th>Unemployment Rate 2012</th>\n",
       "      <th>Unemployment Rate 2011</th>\n",
       "      <th>Unemployment Rate 2010</th>\n",
       "    </tr>\n",
       "  </thead>\n",
       "  <tbody>\n",
       "    <tr>\n",
       "      <th>0</th>\n",
       "      <td>Birmingham, AL</td>\n",
       "      <td>11.8%</td>\n",
       "      <td>13.3%</td>\n",
       "      <td>14.5%</td>\n",
       "      <td>15.3%</td>\n",
       "      <td>14.5%</td>\n",
       "      <td>13.6%</td>\n",
       "      <td>12.9%</td>\n",
       "    </tr>\n",
       "    <tr>\n",
       "      <th>1</th>\n",
       "      <td>Montgomery, AL</td>\n",
       "      <td>8.4%</td>\n",
       "      <td>8.8%</td>\n",
       "      <td>8.9%</td>\n",
       "      <td>8.9%</td>\n",
       "      <td>8.7%</td>\n",
       "      <td>8.6%</td>\n",
       "      <td>7.9%</td>\n",
       "    </tr>\n",
       "    <tr>\n",
       "      <th>2</th>\n",
       "      <td>Anchorage, AK</td>\n",
       "      <td>6.0%</td>\n",
       "      <td>6.7%</td>\n",
       "      <td>6.9%</td>\n",
       "      <td>7.3%</td>\n",
       "      <td>7.3%</td>\n",
       "      <td>7.2%</td>\n",
       "      <td>7.4%</td>\n",
       "    </tr>\n",
       "    <tr>\n",
       "      <th>3</th>\n",
       "      <td>Juneau, AK</td>\n",
       "      <td>4.9%</td>\n",
       "      <td>5.2%</td>\n",
       "      <td>5.6%</td>\n",
       "      <td>5.3%</td>\n",
       "      <td>5.1%</td>\n",
       "      <td>5.3%</td>\n",
       "      <td>5.8%</td>\n",
       "    </tr>\n",
       "    <tr>\n",
       "      <th>4</th>\n",
       "      <td>Phoenix, AZ</td>\n",
       "      <td>7.7%</td>\n",
       "      <td>8.8%</td>\n",
       "      <td>9.9%</td>\n",
       "      <td>10.6%</td>\n",
       "      <td>9.7%</td>\n",
       "      <td>8.7%</td>\n",
       "      <td>7.4%</td>\n",
       "    </tr>\n",
       "  </tbody>\n",
       "</table>\n",
       "</div>"
      ],
      "text/plain": [
       "             City Unemployment Rate 2016 Unemployment Rate 2015  \\\n",
       "0  Birmingham, AL                  11.8%                  13.3%   \n",
       "1  Montgomery, AL                   8.4%                   8.8%   \n",
       "2   Anchorage, AK                   6.0%                   6.7%   \n",
       "3      Juneau, AK                   4.9%                   5.2%   \n",
       "4     Phoenix, AZ                   7.7%                   8.8%   \n",
       "\n",
       "  Unemployment Rate 2014 Unemployment Rate 2013 Unemployment Rate 2012  \\\n",
       "0                  14.5%                  15.3%                  14.5%   \n",
       "1                   8.9%                   8.9%                   8.7%   \n",
       "2                   6.9%                   7.3%                   7.3%   \n",
       "3                   5.6%                   5.3%                   5.1%   \n",
       "4                   9.9%                  10.6%                   9.7%   \n",
       "\n",
       "  Unemployment Rate 2011 Unemployment Rate 2010  \n",
       "0                  13.6%                  12.9%  \n",
       "1                   8.6%                   7.9%  \n",
       "2                   7.2%                   7.4%  \n",
       "3                   5.3%                   5.8%  \n",
       "4                   8.7%                   7.4%  "
      ]
     },
     "execution_count": 10,
     "metadata": {},
     "output_type": "execute_result"
    }
   ],
   "source": [
    "unemployment = pd.read_csv('Income_Data/cities_unemployment_rate.csv')\n",
    "unemployment.head()"
   ]
  },
  {
   "cell_type": "code",
   "execution_count": 11,
   "metadata": {},
   "outputs": [],
   "source": [
    "# rename columns\n",
    "unemployment.columns = ['city', '2016', '2015', '2014', '2013', '2012', '2011', '2010']"
   ]
  },
  {
   "cell_type": "code",
   "execution_count": 12,
   "metadata": {},
   "outputs": [],
   "source": [
    "# capitalize \"city\" in \"Salt Lake City\"\n",
    "unemployment.loc[unemployment['city'] == \"Salt Lake city, UT\", 'city'] = \"Salt Lake City, UT\""
   ]
  },
  {
   "cell_type": "code",
   "execution_count": 13,
   "metadata": {},
   "outputs": [],
   "source": [
    "# unpivot\n",
    "unemployment = pd.melt(unemployment, id_vars=['city'], var_name='year', value_name='unemployment rate') \\\n",
    "                 .sort_values(['city', 'year']) \\\n",
    "                 .reset_index(drop=True)"
   ]
  },
  {
   "cell_type": "code",
   "execution_count": 14,
   "metadata": {},
   "outputs": [],
   "source": [
    "# convert percentages to decimals\n",
    "unemployment['unemployment rate'] = unemployment['unemployment rate'] \\\n",
    "                                    .map(lambda rate: float(rate.rstrip('%'))/100)"
   ]
  },
  {
   "cell_type": "code",
   "execution_count": 15,
   "metadata": {},
   "outputs": [],
   "source": [
    "# convert to MultiIndex\n",
    "unemployment.set_index(['city', 'year'], inplace=True)"
   ]
  },
  {
   "cell_type": "code",
   "execution_count": 16,
   "metadata": {},
   "outputs": [
    {
     "data": {
      "text/html": [
       "<div>\n",
       "<style scoped>\n",
       "    .dataframe tbody tr th:only-of-type {\n",
       "        vertical-align: middle;\n",
       "    }\n",
       "\n",
       "    .dataframe tbody tr th {\n",
       "        vertical-align: top;\n",
       "    }\n",
       "\n",
       "    .dataframe thead th {\n",
       "        text-align: right;\n",
       "    }\n",
       "</style>\n",
       "<table border=\"1\" class=\"dataframe\">\n",
       "  <thead>\n",
       "    <tr style=\"text-align: right;\">\n",
       "      <th></th>\n",
       "      <th></th>\n",
       "      <th>unemployment rate</th>\n",
       "    </tr>\n",
       "    <tr>\n",
       "      <th>city</th>\n",
       "      <th>year</th>\n",
       "      <th></th>\n",
       "    </tr>\n",
       "  </thead>\n",
       "  <tbody>\n",
       "    <tr>\n",
       "      <th rowspan=\"5\" valign=\"top\">Albany, NY</th>\n",
       "      <th>2010</th>\n",
       "      <td>0.060</td>\n",
       "    </tr>\n",
       "    <tr>\n",
       "      <th>2011</th>\n",
       "      <td>0.065</td>\n",
       "    </tr>\n",
       "    <tr>\n",
       "      <th>2012</th>\n",
       "      <td>0.070</td>\n",
       "    </tr>\n",
       "    <tr>\n",
       "      <th>2013</th>\n",
       "      <td>0.073</td>\n",
       "    </tr>\n",
       "    <tr>\n",
       "      <th>2014</th>\n",
       "      <td>0.068</td>\n",
       "    </tr>\n",
       "  </tbody>\n",
       "</table>\n",
       "</div>"
      ],
      "text/plain": [
       "                 unemployment rate\n",
       "city       year                   \n",
       "Albany, NY 2010              0.060\n",
       "           2011              0.065\n",
       "           2012              0.070\n",
       "           2013              0.073\n",
       "           2014              0.068"
      ]
     },
     "execution_count": 16,
     "metadata": {},
     "output_type": "execute_result"
    }
   ],
   "source": [
    "unemployment.head()"
   ]
  },
  {
   "cell_type": "markdown",
   "metadata": {},
   "source": [
    "## Traffic"
   ]
  },
  {
   "cell_type": "code",
   "execution_count": 27,
   "metadata": {
    "collapsed": true
   },
   "outputs": [],
   "source": [
    "traffic = pd.read_csv('Income_Data/cities_mean_commute_time.csv')"
   ]
  },
  {
   "cell_type": "code",
   "execution_count": 28,
   "metadata": {},
   "outputs": [
    {
     "data": {
      "text/html": [
       "<div>\n",
       "<style scoped>\n",
       "    .dataframe tbody tr th:only-of-type {\n",
       "        vertical-align: middle;\n",
       "    }\n",
       "\n",
       "    .dataframe tbody tr th {\n",
       "        vertical-align: top;\n",
       "    }\n",
       "\n",
       "    .dataframe thead th {\n",
       "        text-align: right;\n",
       "    }\n",
       "</style>\n",
       "<table border=\"1\" class=\"dataframe\">\n",
       "  <thead>\n",
       "    <tr style=\"text-align: right;\">\n",
       "      <th></th>\n",
       "      <th>City</th>\n",
       "      <th>Mean Commute Time 2016</th>\n",
       "      <th>Mean Commute Time 2015</th>\n",
       "      <th>Mean Commute Time 2014</th>\n",
       "      <th>Mean Commute Time 2013</th>\n",
       "      <th>Mean Commute Time 2012</th>\n",
       "      <th>Mean Commute Time 2011</th>\n",
       "      <th>Mean Commute Time 2010</th>\n",
       "    </tr>\n",
       "  </thead>\n",
       "  <tbody>\n",
       "    <tr>\n",
       "      <th>0</th>\n",
       "      <td>Birmingham, AL</td>\n",
       "      <td>21.4</td>\n",
       "      <td>21.4</td>\n",
       "      <td>21.6</td>\n",
       "      <td>21.7</td>\n",
       "      <td>21.8</td>\n",
       "      <td>21.7</td>\n",
       "      <td>22.0</td>\n",
       "    </tr>\n",
       "    <tr>\n",
       "      <th>1</th>\n",
       "      <td>Montgomery, AL</td>\n",
       "      <td>20.0</td>\n",
       "      <td>19.3</td>\n",
       "      <td>19.5</td>\n",
       "      <td>19.3</td>\n",
       "      <td>19.5</td>\n",
       "      <td>19.5</td>\n",
       "      <td>19.7</td>\n",
       "    </tr>\n",
       "    <tr>\n",
       "      <th>2</th>\n",
       "      <td>Anchorage, AK</td>\n",
       "      <td>19.1</td>\n",
       "      <td>19.5</td>\n",
       "      <td>19.4</td>\n",
       "      <td>19.4</td>\n",
       "      <td>19.0</td>\n",
       "      <td>18.6</td>\n",
       "      <td>18.2</td>\n",
       "    </tr>\n",
       "    <tr>\n",
       "      <th>3</th>\n",
       "      <td>Juneau, AK</td>\n",
       "      <td>15.6</td>\n",
       "      <td>15.1</td>\n",
       "      <td>14.8</td>\n",
       "      <td>15.1</td>\n",
       "      <td>15.5</td>\n",
       "      <td>15.2</td>\n",
       "      <td>15.3</td>\n",
       "    </tr>\n",
       "    <tr>\n",
       "      <th>4</th>\n",
       "      <td>Phoenix, AZ</td>\n",
       "      <td>25.1</td>\n",
       "      <td>24.8</td>\n",
       "      <td>24.5</td>\n",
       "      <td>24.4</td>\n",
       "      <td>24.4</td>\n",
       "      <td>24.7</td>\n",
       "      <td>24.8</td>\n",
       "    </tr>\n",
       "  </tbody>\n",
       "</table>\n",
       "</div>"
      ],
      "text/plain": [
       "             City  Mean Commute Time 2016  Mean Commute Time 2015  \\\n",
       "0  Birmingham, AL                    21.4                    21.4   \n",
       "1  Montgomery, AL                    20.0                    19.3   \n",
       "2   Anchorage, AK                    19.1                    19.5   \n",
       "3      Juneau, AK                    15.6                    15.1   \n",
       "4     Phoenix, AZ                    25.1                    24.8   \n",
       "\n",
       "   Mean Commute Time 2014  Mean Commute Time 2013  Mean Commute Time 2012  \\\n",
       "0                    21.6                    21.7                    21.8   \n",
       "1                    19.5                    19.3                    19.5   \n",
       "2                    19.4                    19.4                    19.0   \n",
       "3                    14.8                    15.1                    15.5   \n",
       "4                    24.5                    24.4                    24.4   \n",
       "\n",
       "   Mean Commute Time 2011  Mean Commute Time 2010  \n",
       "0                    21.7                    22.0  \n",
       "1                    19.5                    19.7  \n",
       "2                    18.6                    18.2  \n",
       "3                    15.2                    15.3  \n",
       "4                    24.7                    24.8  "
      ]
     },
     "execution_count": 17,
     "metadata": {},
     "output_type": "execute_result"
    }
   ],
   "source": [
    "traffic = pd.read_csv('Income_Data/cities_mean_commute_time.csv')\n",
    "traffic.head()"
   ]
  },
  {
   "cell_type": "code",
   "execution_count": 18,
   "metadata": {},
   "outputs": [],
   "source": [
    "# rename columns\n",
    "traffic.columns = ['city', '2016', '2015', '2014', '2013', '2012', '2011', '2010']"
   ]
  },
  {
   "cell_type": "code",
   "execution_count": 19,
   "metadata": {},
   "outputs": [],
   "source": [
    "# capitalize \"city\" in \"Salt Lake City\"\n",
    "traffic.loc[traffic['city'] == \"Salt Lake city, UT\", 'city'] = \"Salt Lake City, UT\""
   ]
  },
  {
   "cell_type": "code",
   "execution_count": 20,
   "metadata": {},
   "outputs": [],
   "source": [
    "# unpivot\n",
    "traffic = pd.melt(traffic, id_vars=['city'], var_name='year', value_name='mean commute time') \\\n",
    "           .sort_values(['city', 'year']) \\\n",
    "           .reset_index(drop=True)"
   ]
  },
  {
   "cell_type": "code",
   "execution_count": 21,
   "metadata": {},
   "outputs": [],
   "source": [
    "# convert to MultiIndex\n",
    "traffic.set_index(['city', 'year'], inplace=True)"
   ]
  },
  {
   "cell_type": "code",
   "execution_count": 22,
   "metadata": {
    "scrolled": true
   },
   "outputs": [
    {
     "data": {
      "text/html": [
       "<div>\n",
       "<style scoped>\n",
       "    .dataframe tbody tr th:only-of-type {\n",
       "        vertical-align: middle;\n",
       "    }\n",
       "\n",
       "    .dataframe tbody tr th {\n",
       "        vertical-align: top;\n",
       "    }\n",
       "\n",
       "    .dataframe thead th {\n",
       "        text-align: right;\n",
       "    }\n",
       "</style>\n",
       "<table border=\"1\" class=\"dataframe\">\n",
       "  <thead>\n",
       "    <tr style=\"text-align: right;\">\n",
       "      <th></th>\n",
       "      <th></th>\n",
       "      <th>mean commute time</th>\n",
       "    </tr>\n",
       "    <tr>\n",
       "      <th>city</th>\n",
       "      <th>year</th>\n",
       "      <th></th>\n",
       "    </tr>\n",
       "  </thead>\n",
       "  <tbody>\n",
       "    <tr>\n",
       "      <th rowspan=\"5\" valign=\"top\">Albany, NY</th>\n",
       "      <th>2010</th>\n",
       "      <td>19.7</td>\n",
       "    </tr>\n",
       "    <tr>\n",
       "      <th>2011</th>\n",
       "      <td>19.9</td>\n",
       "    </tr>\n",
       "    <tr>\n",
       "      <th>2012</th>\n",
       "      <td>20.0</td>\n",
       "    </tr>\n",
       "    <tr>\n",
       "      <th>2013</th>\n",
       "      <td>20.0</td>\n",
       "    </tr>\n",
       "    <tr>\n",
       "      <th>2014</th>\n",
       "      <td>20.1</td>\n",
       "    </tr>\n",
       "  </tbody>\n",
       "</table>\n",
       "</div>"
      ],
      "text/plain": [
       "                 mean commute time\n",
       "city       year                   \n",
       "Albany, NY 2010               19.7\n",
       "           2011               19.9\n",
       "           2012               20.0\n",
       "           2013               20.0\n",
       "           2014               20.1"
      ]
     },
     "execution_count": 22,
     "metadata": {},
     "output_type": "execute_result"
    }
   ],
   "source": [
    "traffic.head()"
   ]
  },
  {
   "cell_type": "markdown",
   "metadata": {},
   "source": [
    "## Crime"
   ]
  },
  {
   "cell_type": "code",
   "execution_count": 23,
   "metadata": {},
   "outputs": [
    {
     "data": {
      "text/html": [
       "<div>\n",
       "<style scoped>\n",
       "    .dataframe tbody tr th:only-of-type {\n",
       "        vertical-align: middle;\n",
       "    }\n",
       "\n",
       "    .dataframe tbody tr th {\n",
       "        vertical-align: top;\n",
       "    }\n",
       "\n",
       "    .dataframe thead th {\n",
       "        text-align: right;\n",
       "    }\n",
       "</style>\n",
       "<table border=\"1\" class=\"dataframe\">\n",
       "  <thead>\n",
       "    <tr style=\"text-align: right;\">\n",
       "      <th></th>\n",
       "      <th></th>\n",
       "      <th>arson</th>\n",
       "      <th>assault</th>\n",
       "      <th>burglary</th>\n",
       "      <th>murder</th>\n",
       "      <th>rape</th>\n",
       "      <th>robbery</th>\n",
       "      <th>theft</th>\n",
       "      <th>vehicle theft</th>\n",
       "      <th>population</th>\n",
       "    </tr>\n",
       "    <tr>\n",
       "      <th>city</th>\n",
       "      <th>year</th>\n",
       "      <th></th>\n",
       "      <th></th>\n",
       "      <th></th>\n",
       "      <th></th>\n",
       "      <th></th>\n",
       "      <th></th>\n",
       "      <th></th>\n",
       "      <th></th>\n",
       "      <th></th>\n",
       "    </tr>\n",
       "  </thead>\n",
       "  <tbody>\n",
       "    <tr>\n",
       "      <th rowspan=\"5\" valign=\"top\">Birmingham, AL</th>\n",
       "      <th>2002</th>\n",
       "      <td>211</td>\n",
       "      <td>1697</td>\n",
       "      <td>4389</td>\n",
       "      <td>65</td>\n",
       "      <td>239</td>\n",
       "      <td>1186</td>\n",
       "      <td>11640</td>\n",
       "      <td>2049</td>\n",
       "      <td>NaN</td>\n",
       "    </tr>\n",
       "    <tr>\n",
       "      <th>2003</th>\n",
       "      <td>175</td>\n",
       "      <td>1706</td>\n",
       "      <td>4831</td>\n",
       "      <td>85</td>\n",
       "      <td>204</td>\n",
       "      <td>1352</td>\n",
       "      <td>11934</td>\n",
       "      <td>2809</td>\n",
       "      <td>NaN</td>\n",
       "    </tr>\n",
       "    <tr>\n",
       "      <th>2004</th>\n",
       "      <td>142</td>\n",
       "      <td>1593</td>\n",
       "      <td>5156</td>\n",
       "      <td>59</td>\n",
       "      <td>240</td>\n",
       "      <td>1369</td>\n",
       "      <td>11970</td>\n",
       "      <td>2351</td>\n",
       "      <td>NaN</td>\n",
       "    </tr>\n",
       "    <tr>\n",
       "      <th>2005</th>\n",
       "      <td>136</td>\n",
       "      <td>1675</td>\n",
       "      <td>4933</td>\n",
       "      <td>104</td>\n",
       "      <td>241</td>\n",
       "      <td>1429</td>\n",
       "      <td>11962</td>\n",
       "      <td>2028</td>\n",
       "      <td>NaN</td>\n",
       "    </tr>\n",
       "    <tr>\n",
       "      <th>2006</th>\n",
       "      <td>228</td>\n",
       "      <td>1422</td>\n",
       "      <td>4813</td>\n",
       "      <td>104</td>\n",
       "      <td>220</td>\n",
       "      <td>1429</td>\n",
       "      <td>12113</td>\n",
       "      <td>2081</td>\n",
       "      <td>NaN</td>\n",
       "    </tr>\n",
       "  </tbody>\n",
       "</table>\n",
       "</div>"
      ],
      "text/plain": [
       "                    arson assault burglary murder rape robbery  theft  \\\n",
       "city           year                                                     \n",
       "Birmingham, AL 2002   211    1697     4389     65  239    1186  11640   \n",
       "               2003   175    1706     4831     85  204    1352  11934   \n",
       "               2004   142    1593     5156     59  240    1369  11970   \n",
       "               2005   136    1675     4933    104  241    1429  11962   \n",
       "               2006   228    1422     4813    104  220    1429  12113   \n",
       "\n",
       "                    vehicle theft population  \n",
       "city           year                           \n",
       "Birmingham, AL 2002          2049        NaN  \n",
       "               2003          2809        NaN  \n",
       "               2004          2351        NaN  \n",
       "               2005          2028        NaN  \n",
       "               2006          2081        NaN  "
      ]
     },
     "execution_count": 23,
     "metadata": {},
     "output_type": "execute_result"
    }
   ],
   "source": [
    "crime = pd.read_pickle('crime_data/crime_data.pkl')\n",
    "crime.head()"
   ]
  },
  {
   "cell_type": "code",
   "execution_count": 24,
   "metadata": {},
   "outputs": [],
   "source": [
    "# only keep 2009–2016\n",
    "crime.drop([str(year) for year in range(2000, 2008+1)], level='year', inplace=True)"
   ]
  },
  {
   "cell_type": "code",
   "execution_count": 25,
   "metadata": {
    "scrolled": false
   },
   "outputs": [],
   "source": [
    "# the only population value we're missing (2009 onward) is Chicago 2013,\n",
    "# so we'll fill it with the mean of Chicago's 2012 and 2014 populations\n",
    "crime.loc['Chicago, IL', '2013'].loc['population'] \\\n",
    "    = crime.loc['Chicago, IL'].loc[['2012', '2014'], 'population'].mean()"
   ]
  },
  {
   "cell_type": "code",
   "execution_count": 26,
   "metadata": {},
   "outputs": [],
   "source": [
    "# rescale crime values to occurence per capita\n",
    "for col_name in crime.columns:\n",
    "    crime[col_name] = crime[col_name]/crime['population']\n",
    "crime.drop('population', axis=1, inplace=True)\n",
    "# append \"rate\" to column names\n",
    "crime.rename(columns=lambda col_name: col_name + \" rate\", inplace=True)"
   ]
  },
  {
   "cell_type": "code",
   "execution_count": 27,
   "metadata": {},
   "outputs": [],
   "source": [
    "# These cities are missing all data points for these metrics,\n",
    "# so we'll fill those with zeros\n",
    "crime.loc['Boston, MA', 'arson rate'] = 0\n",
    "crime.loc['New York City, NY', 'arson rate'] = 0\n",
    "crime.loc['Huntington, WV', 'burglary rate'] = 0"
   ]
  },
  {
   "cell_type": "code",
   "execution_count": 28,
   "metadata": {},
   "outputs": [],
   "source": [
    "# These cities are missing half or more data points for these metrics,\n",
    "# so we'll fill them with the means of the available data points for those metrics for each city\n",
    "crime.loc['Montgomery, AL', 'arson rate'] =   crime.loc['Montgomery, AL', 'arson rate']                   \\\n",
    "                                              .fillna(crime.loc['Montgomery, AL', 'arson rate'].mean())   \\\n",
    "                                              .values\n",
    "crime.loc['Tucson, AZ', 'theft rate'] =       crime.loc['Tucson, AZ', 'theft rate']                       \\\n",
    "                                              .fillna(crime.loc['Tucson, AZ', 'theft rate'].mean())       \\\n",
    "                                              .values\n",
    "crime.loc['New Orleans, LA', 'arson rate'] =  crime.loc['New Orleans, LA', 'arson rate']                  \\\n",
    "                                              .fillna(crime.loc['New Orleans, LA', 'arson rate'].mean())  \\\n",
    "                                              .values\n",
    "crime.loc['Philadelphia, PA', 'arson rate'] = crime.loc['Philadelphia, PA', 'arson rate']                 \\\n",
    "                                              .fillna(crime.loc['Philadelphia, PA', 'arson rate'].mean()) \\\n",
    "                                              .values"
   ]
  },
  {
   "cell_type": "code",
   "execution_count": 29,
   "metadata": {
    "scrolled": false
   },
   "outputs": [],
   "source": [
    "# These cities are missing just a few data points,\n",
    "# so we'll fill them by cubic interpolation\n",
    "def interpolate_crime_data(series):\n",
    "    x = series.dropna().index.values.astype(int) # year\n",
    "    y = series.dropna().values # data\n",
    "    \n",
    "    f = sp_interpolate.interp1d(x, y, kind='cubic', fill_value='extrapolate')\n",
    "    x_all = series.index.values.astype(int)\n",
    "    return f(x_all)\n",
    "\n",
    "missing_data = [\n",
    "    ('Birmingham, AL', 'arson rate'),\n",
    "    ('Phoenix, AZ', 'arson rate'),\n",
    "    ('Chicago, IL', 'arson rate'),\n",
    "    ('Chicago, IL', 'assault rate'),\n",
    "    ('Chicago, IL', 'rape rate'),\n",
    "    ('Indianapolis, IN', 'arson rate'),\n",
    "    ('Topeka, KS', 'arson rate'),\n",
    "    ('Louisville, KY', 'arson rate'),\n",
    "    ('Lincoln, NE', 'arson rate'),\n",
    "    ('Omaha, NE', 'arson rate'),\n",
    "    ('Albuquerque, NM', 'arson rate'),\n",
    "    ('Santa Fe, NM', 'arson rate'),\n",
    "    ('Albany, NY', 'arson rate'),\n",
    "    ('Columbus, OH', 'arson rate'),\n",
    "    ('Providence, RI', 'vehicle theft rate'),\n",
    "    ('West Valley City, UT', 'burglary rate'),\n",
    "    ('Madison, WI', 'arson rate')\n",
    "]\n",
    "\n",
    "for city, injustice in missing_data:\n",
    "    crime.loc[city, injustice] = interpolate_crime_data(crime.loc[city, injustice])"
   ]
  },
  {
   "cell_type": "code",
   "execution_count": 30,
   "metadata": {
    "scrolled": true
   },
   "outputs": [
    {
     "data": {
      "text/html": [
       "<div>\n",
       "<style scoped>\n",
       "    .dataframe tbody tr th:only-of-type {\n",
       "        vertical-align: middle;\n",
       "    }\n",
       "\n",
       "    .dataframe tbody tr th {\n",
       "        vertical-align: top;\n",
       "    }\n",
       "\n",
       "    .dataframe thead th {\n",
       "        text-align: right;\n",
       "    }\n",
       "</style>\n",
       "<table border=\"1\" class=\"dataframe\">\n",
       "  <thead>\n",
       "    <tr style=\"text-align: right;\">\n",
       "      <th></th>\n",
       "      <th></th>\n",
       "      <th>arson rate</th>\n",
       "      <th>assault rate</th>\n",
       "      <th>burglary rate</th>\n",
       "      <th>murder rate</th>\n",
       "      <th>rape rate</th>\n",
       "      <th>robbery rate</th>\n",
       "      <th>theft rate</th>\n",
       "      <th>vehicle theft rate</th>\n",
       "    </tr>\n",
       "    <tr>\n",
       "      <th>city</th>\n",
       "      <th>year</th>\n",
       "      <th></th>\n",
       "      <th></th>\n",
       "      <th></th>\n",
       "      <th></th>\n",
       "      <th></th>\n",
       "      <th></th>\n",
       "      <th></th>\n",
       "      <th></th>\n",
       "    </tr>\n",
       "  </thead>\n",
       "  <tbody>\n",
       "    <tr>\n",
       "      <th rowspan=\"5\" valign=\"top\">Birmingham, AL</th>\n",
       "      <th>2009</th>\n",
       "      <td>0.000593738</td>\n",
       "      <td>0.00615289</td>\n",
       "      <td>0.0220739</td>\n",
       "      <td>0.000285874</td>\n",
       "      <td>0.000870816</td>\n",
       "      <td>0.00505777</td>\n",
       "      <td>0.05078</td>\n",
       "      <td>0.00701051</td>\n",
       "    </tr>\n",
       "    <tr>\n",
       "      <th>2011</th>\n",
       "      <td>0.000576766</td>\n",
       "      <td>0.00898442</td>\n",
       "      <td>0.0272252</td>\n",
       "      <td>0.000253214</td>\n",
       "      <td>0.000853426</td>\n",
       "      <td>0.00474074</td>\n",
       "      <td>0.0493393</td>\n",
       "      <td>0.00709469</td>\n",
       "    </tr>\n",
       "    <tr>\n",
       "      <th>2012</th>\n",
       "      <td>0.000548611</td>\n",
       "      <td>0.00954207</td>\n",
       "      <td>0.022057</td>\n",
       "      <td>0.000314162</td>\n",
       "      <td>0.000712725</td>\n",
       "      <td>0.00460927</td>\n",
       "      <td>0.0423978</td>\n",
       "      <td>0.00488592</td>\n",
       "    </tr>\n",
       "    <tr>\n",
       "      <th>2013</th>\n",
       "      <td>0.000606034</td>\n",
       "      <td>0.00774525</td>\n",
       "      <td>0.0189527</td>\n",
       "      <td>0.000297168</td>\n",
       "      <td>0.000839619</td>\n",
       "      <td>0.00457073</td>\n",
       "      <td>0.0408536</td>\n",
       "      <td>0.00697167</td>\n",
       "    </tr>\n",
       "    <tr>\n",
       "      <th>2014</th>\n",
       "      <td>0.000683591</td>\n",
       "      <td>0.00982486</td>\n",
       "      <td>0.0176791</td>\n",
       "      <td>0.00024515</td>\n",
       "      <td>0.000858025</td>\n",
       "      <td>0.00495486</td>\n",
       "      <td>0.0412182</td>\n",
       "      <td>0.00676991</td>\n",
       "    </tr>\n",
       "  </tbody>\n",
       "</table>\n",
       "</div>"
      ],
      "text/plain": [
       "                      arson rate assault rate burglary rate  murder rate  \\\n",
       "city           year                                                        \n",
       "Birmingham, AL 2009  0.000593738   0.00615289     0.0220739  0.000285874   \n",
       "               2011  0.000576766   0.00898442     0.0272252  0.000253214   \n",
       "               2012  0.000548611   0.00954207      0.022057  0.000314162   \n",
       "               2013  0.000606034   0.00774525     0.0189527  0.000297168   \n",
       "               2014  0.000683591   0.00982486     0.0176791   0.00024515   \n",
       "\n",
       "                       rape rate robbery rate theft rate vehicle theft rate  \n",
       "city           year                                                          \n",
       "Birmingham, AL 2009  0.000870816   0.00505777    0.05078         0.00701051  \n",
       "               2011  0.000853426   0.00474074  0.0493393         0.00709469  \n",
       "               2012  0.000712725   0.00460927  0.0423978         0.00488592  \n",
       "               2013  0.000839619   0.00457073  0.0408536         0.00697167  \n",
       "               2014  0.000858025   0.00495486  0.0412182         0.00676991  "
      ]
     },
     "execution_count": 30,
     "metadata": {},
     "output_type": "execute_result"
    }
   ],
   "source": [
    "crime.head()"
   ]
  },
  {
   "cell_type": "markdown",
   "metadata": {},
   "source": [
    "## Happiness"
   ]
  },
  {
   "cell_type": "code",
   "execution_count": 31,
   "metadata": {},
   "outputs": [
    {
     "data": {
      "text/html": [
       "<div>\n",
       "<style scoped>\n",
       "    .dataframe tbody tr th:only-of-type {\n",
       "        vertical-align: middle;\n",
       "    }\n",
       "\n",
       "    .dataframe tbody tr th {\n",
       "        vertical-align: top;\n",
       "    }\n",
       "\n",
       "    .dataframe thead th {\n",
       "        text-align: right;\n",
       "    }\n",
       "</style>\n",
       "<table border=\"1\" class=\"dataframe\">\n",
       "  <thead>\n",
       "    <tr style=\"text-align: right;\">\n",
       "      <th></th>\n",
       "      <th>Geography</th>\n",
       "      <th>2014</th>\n",
       "      <th>2015</th>\n",
       "      <th>2016</th>\n",
       "    </tr>\n",
       "  </thead>\n",
       "  <tbody>\n",
       "    <tr>\n",
       "      <th>0</th>\n",
       "      <td>Akron, OH</td>\n",
       "      <td>57.7</td>\n",
       "      <td>60.3</td>\n",
       "      <td>61.7</td>\n",
       "    </tr>\n",
       "    <tr>\n",
       "      <th>1</th>\n",
       "      <td>Albany-Schenectady-Troy, NY</td>\n",
       "      <td>59.2</td>\n",
       "      <td>60.8</td>\n",
       "      <td>59.9</td>\n",
       "    </tr>\n",
       "    <tr>\n",
       "      <th>2</th>\n",
       "      <td>Albuquerque, NM</td>\n",
       "      <td>60.3</td>\n",
       "      <td>57.0</td>\n",
       "      <td>59.4</td>\n",
       "    </tr>\n",
       "    <tr>\n",
       "      <th>3</th>\n",
       "      <td>Allentown-Bethlehem-Easton, PA-NJ</td>\n",
       "      <td>61.2</td>\n",
       "      <td>60.4</td>\n",
       "      <td>61.2</td>\n",
       "    </tr>\n",
       "    <tr>\n",
       "      <th>4</th>\n",
       "      <td>Anchorage, AK</td>\n",
       "      <td>65.7</td>\n",
       "      <td>NaN</td>\n",
       "      <td>64.4</td>\n",
       "    </tr>\n",
       "  </tbody>\n",
       "</table>\n",
       "</div>"
      ],
      "text/plain": [
       "                           Geography  2014  2015  2016\n",
       "0                          Akron, OH  57.7  60.3  61.7\n",
       "1        Albany-Schenectady-Troy, NY  59.2  60.8  59.9\n",
       "2                    Albuquerque, NM  60.3  57.0  59.4\n",
       "3  Allentown-Bethlehem-Easton, PA-NJ  61.2  60.4  61.2\n",
       "4                      Anchorage, AK  65.7   NaN  64.4"
      ]
     },
     "execution_count": 31,
     "metadata": {},
     "output_type": "execute_result"
    }
   ],
   "source": [
    "happiness = pd.read_csv('Happy_Data/timeline_happy.csv')\n",
    "happiness.head()"
   ]
  },
  {
   "cell_type": "code",
   "execution_count": 32,
   "metadata": {},
   "outputs": [],
   "source": [
    "# rename columns\n",
    "happiness.columns = ['city', '2014', '2015', '2016']"
   ]
  },
  {
   "cell_type": "code",
   "execution_count": 33,
   "metadata": {},
   "outputs": [],
   "source": [
    "# why is there an extra comma in this one??\n",
    "happiness.loc[happiness['city'] == \"Fayetteville, Springdale-Rogers, AR-MO\", 'city'] \\\n",
    "    = \"Fayetteville-Springdale-Rogers, AR-MO\""
   ]
  },
  {
   "cell_type": "code",
   "execution_count": 34,
   "metadata": {
    "scrolled": false
   },
   "outputs": [],
   "source": [
    "# filter out regions not on our wishlist, and rename regions to cities accordingly\n",
    "def rename_regions(region):\n",
    "    region_city_words, region_states = [area.replace('-', ' ').split() for area in region.split(\", \")]\n",
    "    for city_words, state in [(city.split(), state) for city, state in [city.split(\", \") for city in cities]]:\n",
    "        # reconstruct \"City, STATE\" becuase I like the way I wrote the for loop too much to restructure it\n",
    "        city_name = \"{city}, {state}\".format(city=' '.join(city_words), state=state)\n",
    "        # the Happiness data uses \"St.\" instead of \"Saint\"\n",
    "        city_words = [\"St.\" if word == \"Saint\" else word for word in city_words]\n",
    "        if all([city_word in region_city_words for city_word in city_words]):\n",
    "            if state in region_states:\n",
    "                return city_name\n",
    "    return False\n",
    "happiness['city'] = happiness['city'].map(rename_regions)\n",
    "happiness = happiness.loc[happiness['city'] != False]"
   ]
  },
  {
   "cell_type": "code",
   "execution_count": 35,
   "metadata": {},
   "outputs": [],
   "source": [
    "# unpivot\n",
    "happiness = pd.melt(happiness, id_vars=['city'], var_name='year', value_name='happiness') \\\n",
    "           .sort_values(['city', 'year']) \\\n",
    "           .reset_index(drop=True)"
   ]
  },
  {
   "cell_type": "code",
   "execution_count": 36,
   "metadata": {},
   "outputs": [],
   "source": [
    "# drop NaN rows because they are worthless to our cause\n",
    "happiness.dropna(inplace=True)"
   ]
  },
  {
   "cell_type": "code",
   "execution_count": 37,
   "metadata": {},
   "outputs": [],
   "source": [
    "# convert to MultiIndex\n",
    "happiness.set_index(['city', 'year'], inplace=True)"
   ]
  },
  {
   "cell_type": "code",
   "execution_count": 38,
   "metadata": {
    "scrolled": true
   },
   "outputs": [
    {
     "data": {
      "text/html": [
       "<div>\n",
       "<style scoped>\n",
       "    .dataframe tbody tr th:only-of-type {\n",
       "        vertical-align: middle;\n",
       "    }\n",
       "\n",
       "    .dataframe tbody tr th {\n",
       "        vertical-align: top;\n",
       "    }\n",
       "\n",
       "    .dataframe thead th {\n",
       "        text-align: right;\n",
       "    }\n",
       "</style>\n",
       "<table border=\"1\" class=\"dataframe\">\n",
       "  <thead>\n",
       "    <tr style=\"text-align: right;\">\n",
       "      <th></th>\n",
       "      <th></th>\n",
       "      <th>happiness</th>\n",
       "    </tr>\n",
       "    <tr>\n",
       "      <th>city</th>\n",
       "      <th>year</th>\n",
       "      <th></th>\n",
       "    </tr>\n",
       "  </thead>\n",
       "  <tbody>\n",
       "    <tr>\n",
       "      <th rowspan=\"3\" valign=\"top\">Albany, NY</th>\n",
       "      <th>2014</th>\n",
       "      <td>59.2</td>\n",
       "    </tr>\n",
       "    <tr>\n",
       "      <th>2015</th>\n",
       "      <td>60.8</td>\n",
       "    </tr>\n",
       "    <tr>\n",
       "      <th>2016</th>\n",
       "      <td>59.9</td>\n",
       "    </tr>\n",
       "    <tr>\n",
       "      <th rowspan=\"2\" valign=\"top\">Albuquerque, NM</th>\n",
       "      <th>2014</th>\n",
       "      <td>60.3</td>\n",
       "    </tr>\n",
       "    <tr>\n",
       "      <th>2015</th>\n",
       "      <td>57.0</td>\n",
       "    </tr>\n",
       "  </tbody>\n",
       "</table>\n",
       "</div>"
      ],
      "text/plain": [
       "                      happiness\n",
       "city            year           \n",
       "Albany, NY      2014       59.2\n",
       "                2015       60.8\n",
       "                2016       59.9\n",
       "Albuquerque, NM 2014       60.3\n",
       "                2015       57.0"
      ]
     },
     "execution_count": 38,
     "metadata": {},
     "output_type": "execute_result"
    }
   ],
   "source": [
    "happiness.head()"
   ]
  },
  {
   "cell_type": "markdown",
   "metadata": {},
   "source": [
    "## Everything Together"
   ]
  },
  {
   "cell_type": "code",
   "execution_count": 39,
   "metadata": {},
   "outputs": [
    {
     "data": {
      "text/html": [
       "<div>\n",
       "<style scoped>\n",
       "    .dataframe tbody tr th:only-of-type {\n",
       "        vertical-align: middle;\n",
       "    }\n",
       "\n",
       "    .dataframe tbody tr th {\n",
       "        vertical-align: top;\n",
       "    }\n",
       "\n",
       "    .dataframe thead th {\n",
       "        text-align: right;\n",
       "    }\n",
       "</style>\n",
       "<table border=\"1\" class=\"dataframe\">\n",
       "  <thead>\n",
       "    <tr style=\"text-align: right;\">\n",
       "      <th></th>\n",
       "      <th></th>\n",
       "      <th>median income</th>\n",
       "      <th>unemployment rate</th>\n",
       "      <th>mean commute time</th>\n",
       "      <th>arson rate</th>\n",
       "      <th>assault rate</th>\n",
       "      <th>burglary rate</th>\n",
       "      <th>murder rate</th>\n",
       "      <th>rape rate</th>\n",
       "      <th>robbery rate</th>\n",
       "      <th>theft rate</th>\n",
       "      <th>vehicle theft rate</th>\n",
       "      <th>happiness</th>\n",
       "    </tr>\n",
       "    <tr>\n",
       "      <th>city</th>\n",
       "      <th>year</th>\n",
       "      <th></th>\n",
       "      <th></th>\n",
       "      <th></th>\n",
       "      <th></th>\n",
       "      <th></th>\n",
       "      <th></th>\n",
       "      <th></th>\n",
       "      <th></th>\n",
       "      <th></th>\n",
       "      <th></th>\n",
       "      <th></th>\n",
       "      <th></th>\n",
       "    </tr>\n",
       "  </thead>\n",
       "  <tbody>\n",
       "    <tr>\n",
       "      <th rowspan=\"5\" valign=\"top\">Albany, NY</th>\n",
       "      <th>2010</th>\n",
       "      <td>73470.0</td>\n",
       "      <td>0.060</td>\n",
       "      <td>19.7</td>\n",
       "      <td>0.000173</td>\n",
       "      <td>0.006698</td>\n",
       "      <td>0.009988</td>\n",
       "      <td>0.000022</td>\n",
       "      <td>0.000453</td>\n",
       "      <td>0.003408</td>\n",
       "      <td>0.037621</td>\n",
       "      <td>0.002470</td>\n",
       "      <td>NaN</td>\n",
       "    </tr>\n",
       "    <tr>\n",
       "      <th>2011</th>\n",
       "      <td>75821.0</td>\n",
       "      <td>0.065</td>\n",
       "      <td>19.9</td>\n",
       "      <td>0.000122</td>\n",
       "      <td>0.005921</td>\n",
       "      <td>0.009105</td>\n",
       "      <td>0.000041</td>\n",
       "      <td>0.000336</td>\n",
       "      <td>0.003255</td>\n",
       "      <td>0.035749</td>\n",
       "      <td>0.002055</td>\n",
       "      <td>NaN</td>\n",
       "    </tr>\n",
       "    <tr>\n",
       "      <th>2012</th>\n",
       "      <td>76707.0</td>\n",
       "      <td>0.070</td>\n",
       "      <td>20.0</td>\n",
       "      <td>0.000109</td>\n",
       "      <td>0.005153</td>\n",
       "      <td>0.009034</td>\n",
       "      <td>0.000041</td>\n",
       "      <td>0.000438</td>\n",
       "      <td>0.002536</td>\n",
       "      <td>0.033599</td>\n",
       "      <td>0.001568</td>\n",
       "      <td>NaN</td>\n",
       "    </tr>\n",
       "    <tr>\n",
       "      <th>2013</th>\n",
       "      <td>77687.0</td>\n",
       "      <td>0.073</td>\n",
       "      <td>20.0</td>\n",
       "      <td>0.000126</td>\n",
       "      <td>0.005370</td>\n",
       "      <td>0.007197</td>\n",
       "      <td>0.000082</td>\n",
       "      <td>0.000306</td>\n",
       "      <td>0.002317</td>\n",
       "      <td>0.033107</td>\n",
       "      <td>0.001450</td>\n",
       "      <td>NaN</td>\n",
       "    </tr>\n",
       "    <tr>\n",
       "      <th>2014</th>\n",
       "      <td>78285.0</td>\n",
       "      <td>0.068</td>\n",
       "      <td>20.1</td>\n",
       "      <td>0.000122</td>\n",
       "      <td>0.005102</td>\n",
       "      <td>0.006927</td>\n",
       "      <td>0.000081</td>\n",
       "      <td>0.000548</td>\n",
       "      <td>0.002404</td>\n",
       "      <td>0.031269</td>\n",
       "      <td>0.001237</td>\n",
       "      <td>59.2</td>\n",
       "    </tr>\n",
       "  </tbody>\n",
       "</table>\n",
       "</div>"
      ],
      "text/plain": [
       "                 median income  unemployment rate  mean commute time  \\\n",
       "city       year                                                        \n",
       "Albany, NY 2010        73470.0              0.060               19.7   \n",
       "           2011        75821.0              0.065               19.9   \n",
       "           2012        76707.0              0.070               20.0   \n",
       "           2013        77687.0              0.073               20.0   \n",
       "           2014        78285.0              0.068               20.1   \n",
       "\n",
       "                 arson rate  assault rate  burglary rate  murder rate  \\\n",
       "city       year                                                         \n",
       "Albany, NY 2010    0.000173      0.006698       0.009988     0.000022   \n",
       "           2011    0.000122      0.005921       0.009105     0.000041   \n",
       "           2012    0.000109      0.005153       0.009034     0.000041   \n",
       "           2013    0.000126      0.005370       0.007197     0.000082   \n",
       "           2014    0.000122      0.005102       0.006927     0.000081   \n",
       "\n",
       "                 rape rate  robbery rate  theft rate  vehicle theft rate  \\\n",
       "city       year                                                            \n",
       "Albany, NY 2010   0.000453      0.003408    0.037621            0.002470   \n",
       "           2011   0.000336      0.003255    0.035749            0.002055   \n",
       "           2012   0.000438      0.002536    0.033599            0.001568   \n",
       "           2013   0.000306      0.002317    0.033107            0.001450   \n",
       "           2014   0.000548      0.002404    0.031269            0.001237   \n",
       "\n",
       "                 happiness  \n",
       "city       year             \n",
       "Albany, NY 2010        NaN  \n",
       "           2011        NaN  \n",
       "           2012        NaN  \n",
       "           2013        NaN  \n",
       "           2014       59.2  "
      ]
     },
     "execution_count": 39,
     "metadata": {},
     "output_type": "execute_result"
    }
   ],
   "source": [
    "data = income.merge(unemployment, left_index=True, right_index=True)          \\\n",
    "           .merge(traffic, left_index=True, right_index=True)               \\\n",
    "           .merge(crime, left_index=True, right_index=True)                 \\\n",
    "           .merge(happiness, how='left', left_index=True, right_index=True) \\\n",
    "           .astype(float)\n",
    "data.head()"
   ]
  },
  {
   "cell_type": "markdown",
   "metadata": {},
   "source": [
    "# $\\textrm{Data Visualization}$"
   ]
  },
  {
   "cell_type": "code",
   "execution_count": 40,
   "metadata": {},
   "outputs": [],
   "source": [
    "import matplotlib.pyplot as plt"
   ]
  },
  {
   "cell_type": "code",
   "execution_count": null,
   "metadata": {},
   "outputs": [],
   "source": []
  },
  {
   "cell_type": "markdown",
   "metadata": {},
   "source": [
    "# $\\textrm{Data Analysis and Results}$"
   ]
  },
  {
   "cell_type": "code",
   "execution_count": 41,
   "metadata": {},
   "outputs": [],
   "source": [
    "from sklearn.linear_model import LinearRegression as sk_LinearRegression"
   ]
  },
  {
   "cell_type": "markdown",
   "metadata": {},
   "source": [
    "## Calculate Multiple Correlation Coefficient"
   ]
  },
  {
   "cell_type": "markdown",
   "metadata": {},
   "source": [
    "Only looking at the years for which we have happiness data."
   ]
  },
  {
   "cell_type": "markdown",
   "metadata": {},
   "source": [
    "Methodology from [Wikipedia](https://en.wikipedia.org/wiki/Multiple_correlation#Computation)."
   ]
  },
  {
   "cell_type": "markdown",
   "metadata": {},
   "source": [
    "Let $R$ denote the coefficient of multiple correlation:  \n",
    "\"the Pearson correlation coefficient between the predicted and the actual values of the dependent variable in a linear regression model\"."
   ]
  },
  {
   "cell_type": "markdown",
   "metadata": {},
   "source": [
    "$\n",
    "R=\\sqrt{\\mathbf{c}^TR_{xx}^{-1}\\mathbf{c}},\\\\\n",
    "\\textrm{where}\\\\\n",
    "\\textrm{the vector }\\mathbf{c}=(r_{x_1y},r_{x_2y},\\ldots,r_{x_Ny})^T\n",
    "        \\textrm{ contains correlations }r_{x_ny}\n",
    "        \\textrm{ between the predictors }x_n\n",
    "        \\textrm{ and the target }y,\\\\\n",
    "\\textrm{the matrix }R_{xx}=\\left(\\begin{array}{c c c c}\n",
    "r_{x_1x_1}&r_{x_1x_2}&\\cdots&r_{x_1x_N}\\\\\n",
    "r_{x_2x_1}&\\ddots&&\\vdots\\\\\n",
    "\\vdots&&\\ddots&\\\\\n",
    "r_{x_Nx_1}&\\cdots&&r_{x_Nx_N}\\\\\n",
    "\\end{array}\\right)\\textrm{ is the correlation matrix between the predictors}.\n",
    "$"
   ]
  },
  {
   "cell_type": "code",
   "execution_count": 42,
   "metadata": {
    "scrolled": true
   },
   "outputs": [
    {
     "data": {
      "text/plain": [
       "median income         0.133706\n",
       "unemployment rate    -0.353547\n",
       "mean commute time    -0.016936\n",
       "arson rate           -0.237336\n",
       "assault rate         -0.386573\n",
       "burglary rate        -0.448112\n",
       "murder rate          -0.477110\n",
       "rape rate             0.066838\n",
       "robbery rate         -0.519190\n",
       "theft rate           -0.152628\n",
       "vehicle theft rate   -0.231527\n",
       "Name: happiness, dtype: float64"
      ]
     },
     "metadata": {},
     "output_type": "display_data"
    }
   ],
   "source": [
    "c = data.dropna().corr().values[:-1,[-1]]\n",
    "display(data.dropna().corr().drop('happiness', axis='index')['happiness'])"
   ]
  },
  {
   "cell_type": "markdown",
   "metadata": {},
   "source": [
    "None of our variables individually are particularly strongly correlated with happiness."
   ]
  },
  {
   "cell_type": "code",
   "execution_count": 43,
   "metadata": {},
   "outputs": [
    {
     "data": {
      "text/html": [
       "<div>\n",
       "<style scoped>\n",
       "    .dataframe tbody tr th:only-of-type {\n",
       "        vertical-align: middle;\n",
       "    }\n",
       "\n",
       "    .dataframe tbody tr th {\n",
       "        vertical-align: top;\n",
       "    }\n",
       "\n",
       "    .dataframe thead th {\n",
       "        text-align: right;\n",
       "    }\n",
       "</style>\n",
       "<table border=\"1\" class=\"dataframe\">\n",
       "  <thead>\n",
       "    <tr style=\"text-align: right;\">\n",
       "      <th></th>\n",
       "      <th>median income</th>\n",
       "      <th>unemployment rate</th>\n",
       "      <th>mean commute time</th>\n",
       "      <th>arson rate</th>\n",
       "      <th>assault rate</th>\n",
       "      <th>burglary rate</th>\n",
       "      <th>murder rate</th>\n",
       "      <th>rape rate</th>\n",
       "      <th>robbery rate</th>\n",
       "      <th>theft rate</th>\n",
       "      <th>vehicle theft rate</th>\n",
       "    </tr>\n",
       "  </thead>\n",
       "  <tbody>\n",
       "    <tr>\n",
       "      <th>median income</th>\n",
       "      <td>1.000000</td>\n",
       "      <td>-0.505509</td>\n",
       "      <td>0.167971</td>\n",
       "      <td>-0.278277</td>\n",
       "      <td>-0.185433</td>\n",
       "      <td>-0.375989</td>\n",
       "      <td>-0.293157</td>\n",
       "      <td>-0.225765</td>\n",
       "      <td>-0.311808</td>\n",
       "      <td>-0.082478</td>\n",
       "      <td>-0.110416</td>\n",
       "    </tr>\n",
       "    <tr>\n",
       "      <th>unemployment rate</th>\n",
       "      <td>-0.505509</td>\n",
       "      <td>1.000000</td>\n",
       "      <td>0.305801</td>\n",
       "      <td>0.173044</td>\n",
       "      <td>0.153827</td>\n",
       "      <td>0.215680</td>\n",
       "      <td>0.373287</td>\n",
       "      <td>-0.029590</td>\n",
       "      <td>0.464963</td>\n",
       "      <td>-0.173906</td>\n",
       "      <td>0.142741</td>\n",
       "    </tr>\n",
       "    <tr>\n",
       "      <th>mean commute time</th>\n",
       "      <td>0.167971</td>\n",
       "      <td>0.305801</td>\n",
       "      <td>1.000000</td>\n",
       "      <td>-0.153104</td>\n",
       "      <td>-0.211207</td>\n",
       "      <td>-0.305332</td>\n",
       "      <td>0.070645</td>\n",
       "      <td>-0.346578</td>\n",
       "      <td>0.091533</td>\n",
       "      <td>-0.434058</td>\n",
       "      <td>-0.110841</td>\n",
       "    </tr>\n",
       "    <tr>\n",
       "      <th>arson rate</th>\n",
       "      <td>-0.278277</td>\n",
       "      <td>0.173044</td>\n",
       "      <td>-0.153104</td>\n",
       "      <td>1.000000</td>\n",
       "      <td>0.273050</td>\n",
       "      <td>0.540993</td>\n",
       "      <td>0.373815</td>\n",
       "      <td>0.319267</td>\n",
       "      <td>0.425747</td>\n",
       "      <td>0.206279</td>\n",
       "      <td>0.336884</td>\n",
       "    </tr>\n",
       "    <tr>\n",
       "      <th>assault rate</th>\n",
       "      <td>-0.185433</td>\n",
       "      <td>0.153827</td>\n",
       "      <td>-0.211207</td>\n",
       "      <td>0.273050</td>\n",
       "      <td>1.000000</td>\n",
       "      <td>0.650798</td>\n",
       "      <td>0.537761</td>\n",
       "      <td>0.269691</td>\n",
       "      <td>0.649698</td>\n",
       "      <td>0.357756</td>\n",
       "      <td>0.451951</td>\n",
       "    </tr>\n",
       "    <tr>\n",
       "      <th>burglary rate</th>\n",
       "      <td>-0.375989</td>\n",
       "      <td>0.215680</td>\n",
       "      <td>-0.305332</td>\n",
       "      <td>0.540993</td>\n",
       "      <td>0.650798</td>\n",
       "      <td>1.000000</td>\n",
       "      <td>0.520745</td>\n",
       "      <td>0.359638</td>\n",
       "      <td>0.647872</td>\n",
       "      <td>0.513332</td>\n",
       "      <td>0.544436</td>\n",
       "    </tr>\n",
       "    <tr>\n",
       "      <th>murder rate</th>\n",
       "      <td>-0.293157</td>\n",
       "      <td>0.373287</td>\n",
       "      <td>0.070645</td>\n",
       "      <td>0.373815</td>\n",
       "      <td>0.537761</td>\n",
       "      <td>0.520745</td>\n",
       "      <td>1.000000</td>\n",
       "      <td>0.125618</td>\n",
       "      <td>0.795926</td>\n",
       "      <td>0.063153</td>\n",
       "      <td>0.410735</td>\n",
       "    </tr>\n",
       "    <tr>\n",
       "      <th>rape rate</th>\n",
       "      <td>-0.225765</td>\n",
       "      <td>-0.029590</td>\n",
       "      <td>-0.346578</td>\n",
       "      <td>0.319267</td>\n",
       "      <td>0.269691</td>\n",
       "      <td>0.359638</td>\n",
       "      <td>0.125618</td>\n",
       "      <td>1.000000</td>\n",
       "      <td>0.175994</td>\n",
       "      <td>0.399257</td>\n",
       "      <td>0.313619</td>\n",
       "    </tr>\n",
       "    <tr>\n",
       "      <th>robbery rate</th>\n",
       "      <td>-0.311808</td>\n",
       "      <td>0.464963</td>\n",
       "      <td>0.091533</td>\n",
       "      <td>0.425747</td>\n",
       "      <td>0.649698</td>\n",
       "      <td>0.647872</td>\n",
       "      <td>0.795926</td>\n",
       "      <td>0.175994</td>\n",
       "      <td>1.000000</td>\n",
       "      <td>0.152506</td>\n",
       "      <td>0.575022</td>\n",
       "    </tr>\n",
       "    <tr>\n",
       "      <th>theft rate</th>\n",
       "      <td>-0.082478</td>\n",
       "      <td>-0.173906</td>\n",
       "      <td>-0.434058</td>\n",
       "      <td>0.206279</td>\n",
       "      <td>0.357756</td>\n",
       "      <td>0.513332</td>\n",
       "      <td>0.063153</td>\n",
       "      <td>0.399257</td>\n",
       "      <td>0.152506</td>\n",
       "      <td>1.000000</td>\n",
       "      <td>0.391938</td>\n",
       "    </tr>\n",
       "    <tr>\n",
       "      <th>vehicle theft rate</th>\n",
       "      <td>-0.110416</td>\n",
       "      <td>0.142741</td>\n",
       "      <td>-0.110841</td>\n",
       "      <td>0.336884</td>\n",
       "      <td>0.451951</td>\n",
       "      <td>0.544436</td>\n",
       "      <td>0.410735</td>\n",
       "      <td>0.313619</td>\n",
       "      <td>0.575022</td>\n",
       "      <td>0.391938</td>\n",
       "      <td>1.000000</td>\n",
       "    </tr>\n",
       "  </tbody>\n",
       "</table>\n",
       "</div>"
      ],
      "text/plain": [
       "                    median income  unemployment rate  mean commute time  \\\n",
       "median income            1.000000          -0.505509           0.167971   \n",
       "unemployment rate       -0.505509           1.000000           0.305801   \n",
       "mean commute time        0.167971           0.305801           1.000000   \n",
       "arson rate              -0.278277           0.173044          -0.153104   \n",
       "assault rate            -0.185433           0.153827          -0.211207   \n",
       "burglary rate           -0.375989           0.215680          -0.305332   \n",
       "murder rate             -0.293157           0.373287           0.070645   \n",
       "rape rate               -0.225765          -0.029590          -0.346578   \n",
       "robbery rate            -0.311808           0.464963           0.091533   \n",
       "theft rate              -0.082478          -0.173906          -0.434058   \n",
       "vehicle theft rate      -0.110416           0.142741          -0.110841   \n",
       "\n",
       "                    arson rate  assault rate  burglary rate  murder rate  \\\n",
       "median income        -0.278277     -0.185433      -0.375989    -0.293157   \n",
       "unemployment rate     0.173044      0.153827       0.215680     0.373287   \n",
       "mean commute time    -0.153104     -0.211207      -0.305332     0.070645   \n",
       "arson rate            1.000000      0.273050       0.540993     0.373815   \n",
       "assault rate          0.273050      1.000000       0.650798     0.537761   \n",
       "burglary rate         0.540993      0.650798       1.000000     0.520745   \n",
       "murder rate           0.373815      0.537761       0.520745     1.000000   \n",
       "rape rate             0.319267      0.269691       0.359638     0.125618   \n",
       "robbery rate          0.425747      0.649698       0.647872     0.795926   \n",
       "theft rate            0.206279      0.357756       0.513332     0.063153   \n",
       "vehicle theft rate    0.336884      0.451951       0.544436     0.410735   \n",
       "\n",
       "                    rape rate  robbery rate  theft rate  vehicle theft rate  \n",
       "median income       -0.225765     -0.311808   -0.082478           -0.110416  \n",
       "unemployment rate   -0.029590      0.464963   -0.173906            0.142741  \n",
       "mean commute time   -0.346578      0.091533   -0.434058           -0.110841  \n",
       "arson rate           0.319267      0.425747    0.206279            0.336884  \n",
       "assault rate         0.269691      0.649698    0.357756            0.451951  \n",
       "burglary rate        0.359638      0.647872    0.513332            0.544436  \n",
       "murder rate          0.125618      0.795926    0.063153            0.410735  \n",
       "rape rate            1.000000      0.175994    0.399257            0.313619  \n",
       "robbery rate         0.175994      1.000000    0.152506            0.575022  \n",
       "theft rate           0.399257      0.152506    1.000000            0.391938  \n",
       "vehicle theft rate   0.313619      0.575022    0.391938            1.000000  "
      ]
     },
     "metadata": {},
     "output_type": "display_data"
    }
   ],
   "source": [
    "R_xx = data.dropna().corr().values[:-1,:-1]\n",
    "display(data.dropna().corr().drop('happiness', axis='index').drop('happiness', axis='columns'))"
   ]
  },
  {
   "cell_type": "markdown",
   "metadata": {},
   "source": [
    "The strongest pairwise correlation between the metrics is murder and robbery ($r=0.795926$).  \n",
    "The second-strongest is between burglary and assault ($r=0.650798$)."
   ]
  },
  {
   "cell_type": "code",
   "execution_count": 44,
   "metadata": {},
   "outputs": [
    {
     "name": "stdout",
     "output_type": "stream",
     "text": [
      "0.636790557834221\n"
     ]
    }
   ],
   "source": [
    "R = np.sqrt(c.T@np.linalg.inv(R_xx)@c)\n",
    "print(R[0,0])"
   ]
  },
  {
   "cell_type": "markdown",
   "metadata": {},
   "source": [
    "$R=0.636790557834221$"
   ]
  },
  {
   "cell_type": "markdown",
   "metadata": {},
   "source": [
    "Our metrics do a better-than-chance job of predicting happiness!"
   ]
  },
  {
   "cell_type": "markdown",
   "metadata": {},
   "source": [
    "## Fit a Regression Model to Available Happiness Data"
   ]
  },
  {
   "cell_type": "code",
   "execution_count": 45,
   "metadata": {},
   "outputs": [],
   "source": [
    "# years for which we have happiness data\n",
    "X_available = data.values[~np.isnan(data.values[:,-1])][:,:-1]\n",
    "y_available = data.values[~np.isnan(data.values[:,-1])][:,[-1]]"
   ]
  },
  {
   "cell_type": "code",
   "execution_count": 46,
   "metadata": {},
   "outputs": [],
   "source": [
    "model = sk_LinearRegression().fit(X_available, y_available)"
   ]
  },
  {
   "cell_type": "markdown",
   "metadata": {},
   "source": [
    "This makes an assumption that years are independent"
   ]
  },
  {
   "cell_type": "code",
   "execution_count": 47,
   "metadata": {},
   "outputs": [
    {
     "name": "stdout",
     "output_type": "stream",
     "text": [
      "coefficients:\n",
      "[-3.50471158e-05 -2.17731622e+01  4.12652456e-02 -8.04469628e+01\n",
      " -1.62513781e+01 -1.76423165e+02 -3.79872080e+03  1.69499512e+03\n",
      " -2.99652361e+02 -3.06937178e+01  1.22116685e+02]\n",
      "intercept:\n",
      "66.78267223412386\n"
     ]
    }
   ],
   "source": [
    "print(\"coefficients:\\n{}\".format(model.coef_[0]))\n",
    "print(\"intercept:\\n{}\".format(model.intercept_[0]))"
   ]
  },
  {
   "cell_type": "markdown",
   "metadata": {},
   "source": [
    "$\n",
    "\\begin{array}{l r l l}\n",
    "    \\textrm{happiness}_\\textrm{predicted}=&&66.78267223412386\\\\\n",
    "        &-&3.50471158\\times10^{-5}&\\times\\;\\textrm{median income}\\\\\n",
    "        &-&2.17731622\\times10^{1}&\\times\\;\\textrm{unemployment rate}\\\\\n",
    "        &+&4.12652456\\times10^{-2}&\\times\\;\\textrm{mean commute time}\\\\\n",
    "        &-&8.04469628\\times10^{2}&\\times\\;\\textrm{arson rate}\\\\\n",
    "        &-&1.62513781\\times10^{1}&\\times\\;\\textrm{assault rate}\\\\\n",
    "        &-&1.76423165\\times10^{2}&\\times\\;\\textrm{burglary rate}\\\\\n",
    "        &-&3.79872080\\times10^{3}&\\times\\;\\textrm{murder rate}\\\\\n",
    "        &+&1.69499512\\times10^{3}&\\times\\;\\textrm{rape rate}\\\\\n",
    "        &-&2.99652361\\times10^{2}&\\times\\;\\textrm{robbery rate}\\\\\n",
    "        &-&3.06937178\\times10^{1}&\\times\\;\\textrm{theft rate}\\\\\n",
    "        &+&1.22116685\\times10^{2}&\\times\\;\\textrm{vehicular theft rate}\\\\\n",
    "\\end{array}\n",
    "$"
   ]
  },
  {
   "cell_type": "code",
   "execution_count": 48,
   "metadata": {},
   "outputs": [
    {
     "name": "stdout",
     "output_type": "stream",
     "text": [
      "R^2:\n",
      "0.4055022145468181\n"
     ]
    }
   ],
   "source": [
    "print(\"R^2:\\n{}\".format(model.score(X_available, y_available)))"
   ]
  },
  {
   "cell_type": "markdown",
   "metadata": {},
   "source": [
    "$\n",
    "R^2=0.4055022145468181\n",
    "$"
   ]
  },
  {
   "cell_type": "markdown",
   "metadata": {},
   "source": [
    "So I didn't realize this beforehand, but it turns out that the coefficient of determination $R^2$ for a simple linear model *is actually* just Pearson's $R$, squared."
   ]
  },
  {
   "cell_type": "markdown",
   "metadata": {},
   "source": [
    "Unfortunately, it appears that our regression model performs rather poorly, but $R^2$ is not a definitive measure of the model's goodness of fit. Yet it is difficult to draw a more robust, data-informed interpretation due to the high dimensionality of our data."
   ]
  },
  {
   "cell_type": "markdown",
   "metadata": {},
   "source": [
    "Also somewhat disturbingly, there is a rather high positive coefficient attached to the rape rate ($+1694.99512$). In other words, our model predicts that cities with higher rates of violent rape have a palpably higher happiness rating. One plausible explanation is that in cities with good standards of living, sexual assault *is reported more often*, while rape in less fortunate cities may go unreported or ignored by law enforcement. Consequentially, this could lead to a counterintuitive bias in our data. But keeping in mind the $R^2$ value we obtained, this is more or less a shot in the dark, so to speak.\n",
    "\n",
    "It is also worth noting that the rape rate, on its own, had one of the weakest correlations with happiness ($+0.066838$). With this in mind, it could simply be that rape rates are so low in each city that it naturally has to be scaled by a large factor to influence the model at all.\n",
    "\n",
    "I am very uncomfortable with the term \"rape rate\"."
   ]
  },
  {
   "cell_type": "markdown",
   "metadata": {},
   "source": [
    "There is also a rather high positive coefficient for the vehicular theft rate ($+122.116685$). Perhaps nicer cities have nicer cars worth stealing?"
   ]
  },
  {
   "cell_type": "markdown",
   "metadata": {},
   "source": [
    "## Apply Regression Model to Predict Missing Happiness Data"
   ]
  },
  {
   "cell_type": "code",
   "execution_count": 49,
   "metadata": {},
   "outputs": [
    {
     "data": {
      "text/html": [
       "<div>\n",
       "<style scoped>\n",
       "    .dataframe tbody tr th:only-of-type {\n",
       "        vertical-align: middle;\n",
       "    }\n",
       "\n",
       "    .dataframe tbody tr th {\n",
       "        vertical-align: top;\n",
       "    }\n",
       "\n",
       "    .dataframe thead th {\n",
       "        text-align: right;\n",
       "    }\n",
       "</style>\n",
       "<table border=\"1\" class=\"dataframe\">\n",
       "  <thead>\n",
       "    <tr style=\"text-align: right;\">\n",
       "      <th></th>\n",
       "      <th></th>\n",
       "      <th>median income</th>\n",
       "      <th>unemployment rate</th>\n",
       "      <th>mean commute time</th>\n",
       "      <th>arson rate</th>\n",
       "      <th>assault rate</th>\n",
       "      <th>burglary rate</th>\n",
       "      <th>murder rate</th>\n",
       "      <th>rape rate</th>\n",
       "      <th>robbery rate</th>\n",
       "      <th>theft rate</th>\n",
       "      <th>vehicle theft rate</th>\n",
       "      <th>happiness</th>\n",
       "    </tr>\n",
       "    <tr>\n",
       "      <th>city</th>\n",
       "      <th>year</th>\n",
       "      <th></th>\n",
       "      <th></th>\n",
       "      <th></th>\n",
       "      <th></th>\n",
       "      <th></th>\n",
       "      <th></th>\n",
       "      <th></th>\n",
       "      <th></th>\n",
       "      <th></th>\n",
       "      <th></th>\n",
       "      <th></th>\n",
       "      <th></th>\n",
       "    </tr>\n",
       "  </thead>\n",
       "  <tbody>\n",
       "    <tr>\n",
       "      <th rowspan=\"5\" valign=\"top\">Albany, NY</th>\n",
       "      <th>2010</th>\n",
       "      <td>73470.0</td>\n",
       "      <td>0.060</td>\n",
       "      <td>19.7</td>\n",
       "      <td>0.000173</td>\n",
       "      <td>0.006698</td>\n",
       "      <td>0.009988</td>\n",
       "      <td>0.000022</td>\n",
       "      <td>0.000453</td>\n",
       "      <td>0.003408</td>\n",
       "      <td>0.037621</td>\n",
       "      <td>0.002470</td>\n",
       "      <td>NaN</td>\n",
       "    </tr>\n",
       "    <tr>\n",
       "      <th>2011</th>\n",
       "      <td>75821.0</td>\n",
       "      <td>0.065</td>\n",
       "      <td>19.9</td>\n",
       "      <td>0.000122</td>\n",
       "      <td>0.005921</td>\n",
       "      <td>0.009105</td>\n",
       "      <td>0.000041</td>\n",
       "      <td>0.000336</td>\n",
       "      <td>0.003255</td>\n",
       "      <td>0.035749</td>\n",
       "      <td>0.002055</td>\n",
       "      <td>NaN</td>\n",
       "    </tr>\n",
       "    <tr>\n",
       "      <th>2012</th>\n",
       "      <td>76707.0</td>\n",
       "      <td>0.070</td>\n",
       "      <td>20.0</td>\n",
       "      <td>0.000109</td>\n",
       "      <td>0.005153</td>\n",
       "      <td>0.009034</td>\n",
       "      <td>0.000041</td>\n",
       "      <td>0.000438</td>\n",
       "      <td>0.002536</td>\n",
       "      <td>0.033599</td>\n",
       "      <td>0.001568</td>\n",
       "      <td>NaN</td>\n",
       "    </tr>\n",
       "    <tr>\n",
       "      <th>2013</th>\n",
       "      <td>77687.0</td>\n",
       "      <td>0.073</td>\n",
       "      <td>20.0</td>\n",
       "      <td>0.000126</td>\n",
       "      <td>0.005370</td>\n",
       "      <td>0.007197</td>\n",
       "      <td>0.000082</td>\n",
       "      <td>0.000306</td>\n",
       "      <td>0.002317</td>\n",
       "      <td>0.033107</td>\n",
       "      <td>0.001450</td>\n",
       "      <td>NaN</td>\n",
       "    </tr>\n",
       "    <tr>\n",
       "      <th>2014</th>\n",
       "      <td>78285.0</td>\n",
       "      <td>0.068</td>\n",
       "      <td>20.1</td>\n",
       "      <td>0.000122</td>\n",
       "      <td>0.005102</td>\n",
       "      <td>0.006927</td>\n",
       "      <td>0.000081</td>\n",
       "      <td>0.000548</td>\n",
       "      <td>0.002404</td>\n",
       "      <td>0.031269</td>\n",
       "      <td>0.001237</td>\n",
       "      <td>59.2</td>\n",
       "    </tr>\n",
       "  </tbody>\n",
       "</table>\n",
       "</div>"
      ],
      "text/plain": [
       "                 median income  unemployment rate  mean commute time  \\\n",
       "city       year                                                        \n",
       "Albany, NY 2010        73470.0              0.060               19.7   \n",
       "           2011        75821.0              0.065               19.9   \n",
       "           2012        76707.0              0.070               20.0   \n",
       "           2013        77687.0              0.073               20.0   \n",
       "           2014        78285.0              0.068               20.1   \n",
       "\n",
       "                 arson rate  assault rate  burglary rate  murder rate  \\\n",
       "city       year                                                         \n",
       "Albany, NY 2010    0.000173      0.006698       0.009988     0.000022   \n",
       "           2011    0.000122      0.005921       0.009105     0.000041   \n",
       "           2012    0.000109      0.005153       0.009034     0.000041   \n",
       "           2013    0.000126      0.005370       0.007197     0.000082   \n",
       "           2014    0.000122      0.005102       0.006927     0.000081   \n",
       "\n",
       "                 rape rate  robbery rate  theft rate  vehicle theft rate  \\\n",
       "city       year                                                            \n",
       "Albany, NY 2010   0.000453      0.003408    0.037621            0.002470   \n",
       "           2011   0.000336      0.003255    0.035749            0.002055   \n",
       "           2012   0.000438      0.002536    0.033599            0.001568   \n",
       "           2013   0.000306      0.002317    0.033107            0.001450   \n",
       "           2014   0.000548      0.002404    0.031269            0.001237   \n",
       "\n",
       "                 happiness  \n",
       "city       year             \n",
       "Albany, NY 2010        NaN  \n",
       "           2011        NaN  \n",
       "           2012        NaN  \n",
       "           2013        NaN  \n",
       "           2014       59.2  "
      ]
     },
     "execution_count": 49,
     "metadata": {},
     "output_type": "execute_result"
    }
   ],
   "source": [
    "data.head()"
   ]
  },
  {
   "cell_type": "code",
   "execution_count": 50,
   "metadata": {},
   "outputs": [],
   "source": [
    "def predict_happiness(row):\n",
    "    if not np.isnan(row['happiness']):\n",
    "        return row['happiness']\n",
    "    else:\n",
    "        return model.predict(row.values[:-1].reshape((1,-1)))[0][0]\n",
    "data['happiness'] = data.apply(predict_happiness, axis='columns')"
   ]
  },
  {
   "cell_type": "code",
   "execution_count": 51,
   "metadata": {
    "scrolled": true
   },
   "outputs": [
    {
     "data": {
      "text/html": [
       "<div>\n",
       "<style scoped>\n",
       "    .dataframe tbody tr th:only-of-type {\n",
       "        vertical-align: middle;\n",
       "    }\n",
       "\n",
       "    .dataframe tbody tr th {\n",
       "        vertical-align: top;\n",
       "    }\n",
       "\n",
       "    .dataframe thead th {\n",
       "        text-align: right;\n",
       "    }\n",
       "</style>\n",
       "<table border=\"1\" class=\"dataframe\">\n",
       "  <thead>\n",
       "    <tr style=\"text-align: right;\">\n",
       "      <th></th>\n",
       "      <th></th>\n",
       "      <th>median income</th>\n",
       "      <th>unemployment rate</th>\n",
       "      <th>mean commute time</th>\n",
       "      <th>arson rate</th>\n",
       "      <th>assault rate</th>\n",
       "      <th>burglary rate</th>\n",
       "      <th>murder rate</th>\n",
       "      <th>rape rate</th>\n",
       "      <th>robbery rate</th>\n",
       "      <th>theft rate</th>\n",
       "      <th>vehicle theft rate</th>\n",
       "      <th>happiness</th>\n",
       "    </tr>\n",
       "    <tr>\n",
       "      <th>city</th>\n",
       "      <th>year</th>\n",
       "      <th></th>\n",
       "      <th></th>\n",
       "      <th></th>\n",
       "      <th></th>\n",
       "      <th></th>\n",
       "      <th></th>\n",
       "      <th></th>\n",
       "      <th></th>\n",
       "      <th></th>\n",
       "      <th></th>\n",
       "      <th></th>\n",
       "      <th></th>\n",
       "    </tr>\n",
       "  </thead>\n",
       "  <tbody>\n",
       "    <tr>\n",
       "      <th rowspan=\"5\" valign=\"top\">Albany, NY</th>\n",
       "      <th>2010</th>\n",
       "      <td>73470.0</td>\n",
       "      <td>0.060</td>\n",
       "      <td>19.7</td>\n",
       "      <td>0.000173</td>\n",
       "      <td>0.006698</td>\n",
       "      <td>0.009988</td>\n",
       "      <td>0.000022</td>\n",
       "      <td>0.000453</td>\n",
       "      <td>0.003408</td>\n",
       "      <td>0.037621</td>\n",
       "      <td>0.002470</td>\n",
       "      <td>60.640942</td>\n",
       "    </tr>\n",
       "    <tr>\n",
       "      <th>2011</th>\n",
       "      <td>75821.0</td>\n",
       "      <td>0.065</td>\n",
       "      <td>19.9</td>\n",
       "      <td>0.000122</td>\n",
       "      <td>0.005921</td>\n",
       "      <td>0.009105</td>\n",
       "      <td>0.000041</td>\n",
       "      <td>0.000336</td>\n",
       "      <td>0.003255</td>\n",
       "      <td>0.035749</td>\n",
       "      <td>0.002055</td>\n",
       "      <td>60.411513</td>\n",
       "    </tr>\n",
       "    <tr>\n",
       "      <th>2012</th>\n",
       "      <td>76707.0</td>\n",
       "      <td>0.070</td>\n",
       "      <td>20.0</td>\n",
       "      <td>0.000109</td>\n",
       "      <td>0.005153</td>\n",
       "      <td>0.009034</td>\n",
       "      <td>0.000041</td>\n",
       "      <td>0.000438</td>\n",
       "      <td>0.002536</td>\n",
       "      <td>0.033599</td>\n",
       "      <td>0.001568</td>\n",
       "      <td>60.697082</td>\n",
       "    </tr>\n",
       "    <tr>\n",
       "      <th>2013</th>\n",
       "      <td>77687.0</td>\n",
       "      <td>0.073</td>\n",
       "      <td>20.0</td>\n",
       "      <td>0.000126</td>\n",
       "      <td>0.005370</td>\n",
       "      <td>0.007197</td>\n",
       "      <td>0.000082</td>\n",
       "      <td>0.000306</td>\n",
       "      <td>0.002317</td>\n",
       "      <td>0.033107</td>\n",
       "      <td>0.001450</td>\n",
       "      <td>60.604010</td>\n",
       "    </tr>\n",
       "    <tr>\n",
       "      <th>2014</th>\n",
       "      <td>78285.0</td>\n",
       "      <td>0.068</td>\n",
       "      <td>20.1</td>\n",
       "      <td>0.000122</td>\n",
       "      <td>0.005102</td>\n",
       "      <td>0.006927</td>\n",
       "      <td>0.000081</td>\n",
       "      <td>0.000548</td>\n",
       "      <td>0.002404</td>\n",
       "      <td>0.031269</td>\n",
       "      <td>0.001237</td>\n",
       "      <td>59.200000</td>\n",
       "    </tr>\n",
       "  </tbody>\n",
       "</table>\n",
       "</div>"
      ],
      "text/plain": [
       "                 median income  unemployment rate  mean commute time  \\\n",
       "city       year                                                        \n",
       "Albany, NY 2010        73470.0              0.060               19.7   \n",
       "           2011        75821.0              0.065               19.9   \n",
       "           2012        76707.0              0.070               20.0   \n",
       "           2013        77687.0              0.073               20.0   \n",
       "           2014        78285.0              0.068               20.1   \n",
       "\n",
       "                 arson rate  assault rate  burglary rate  murder rate  \\\n",
       "city       year                                                         \n",
       "Albany, NY 2010    0.000173      0.006698       0.009988     0.000022   \n",
       "           2011    0.000122      0.005921       0.009105     0.000041   \n",
       "           2012    0.000109      0.005153       0.009034     0.000041   \n",
       "           2013    0.000126      0.005370       0.007197     0.000082   \n",
       "           2014    0.000122      0.005102       0.006927     0.000081   \n",
       "\n",
       "                 rape rate  robbery rate  theft rate  vehicle theft rate  \\\n",
       "city       year                                                            \n",
       "Albany, NY 2010   0.000453      0.003408    0.037621            0.002470   \n",
       "           2011   0.000336      0.003255    0.035749            0.002055   \n",
       "           2012   0.000438      0.002536    0.033599            0.001568   \n",
       "           2013   0.000306      0.002317    0.033107            0.001450   \n",
       "           2014   0.000548      0.002404    0.031269            0.001237   \n",
       "\n",
       "                 happiness  \n",
       "city       year             \n",
       "Albany, NY 2010  60.640942  \n",
       "           2011  60.411513  \n",
       "           2012  60.697082  \n",
       "           2013  60.604010  \n",
       "           2014  59.200000  "
      ]
     },
     "execution_count": 51,
     "metadata": {},
     "output_type": "execute_result"
    }
   ],
   "source": [
    "data.head()"
   ]
  },
  {
   "cell_type": "markdown",
   "metadata": {},
   "source": [
    "## Find Each Year's Happiest City!"
   ]
  },
  {
   "cell_type": "code",
   "execution_count": 52,
   "metadata": {},
   "outputs": [
    {
     "data": {
      "text/plain": [
       "year  city           \n",
       "2010  Albany, NY         60.640942\n",
       "      Albuquerque, NM    62.087295\n",
       "      Anchorage, AK      62.242175\n",
       "      Annapolis, MD      61.260892\n",
       "      Atlanta, GA        58.707013\n",
       "Name: happiness, dtype: float64"
      ]
     },
     "execution_count": 52,
     "metadata": {},
     "output_type": "execute_result"
    }
   ],
   "source": [
    "yearly_happiness = data.reset_index()                 \\\n",
    "                       .sort_values(['year', 'city']) \\\n",
    "                       .set_index(['year', 'city'])   \\\n",
    "                       ['happiness']\n",
    "yearly_happiness.head()"
   ]
  },
  {
   "cell_type": "code",
   "execution_count": 53,
   "metadata": {
    "scrolled": false
   },
   "outputs": [
    {
     "name": "stdout",
     "output_type": "stream",
     "text": [
      "Happiest city of 2010:\n",
      "\tHelena, MT with a score of 64.37\n",
      "\tout of 93 cities\n",
      "Happiest city of 2011:\n",
      "\tAurora, CO with a score of 63.98\n",
      "\tout of 94 cities\n",
      "Happiest city of 2012:\n",
      "\tHelena, MT with a score of 64.15\n",
      "\tout of 91 cities\n",
      "Happiest city of 2013:\n",
      "\tPierre, SD with a score of 64.30\n",
      "\tout of 90 cities\n",
      "Happiest city of 2014:\n",
      "\tAnchorage, AK with a score of 65.70\n",
      "\tout of 90 cities\n",
      "Happiest city of 2015:\n",
      "\tHonolulu, HI with a score of 66.20\n",
      "\tout of 89 cities\n",
      "Happiest city of 2016:\n",
      "\tHonolulu, HI with a score of 68.00\n",
      "\tout of 91 cities\n"
     ]
    }
   ],
   "source": [
    "for year in [str(year) for year in range(2010, 2016+1)]:\n",
    "    print(\"Happiest city of {year}:\\n\\t{city} with a score of {score:.2f}\\n\\tout of {num_cities} cities\"\n",
    "          .format(year=year,\n",
    "                  city=yearly_happiness.loc[year].idxmax(),\n",
    "                  score=yearly_happiness.loc[year].max(),\n",
    "                  num_cities=len(yearly_happiness.loc[year].values)))"
   ]
  },
  {
   "cell_type": "markdown",
   "metadata": {},
   "source": [
    "Keep in mind that we predicted happiness values for all of 2010, 2011, 2012, and 2013.  \n",
    "We also predicted some happiness values for 2014, 2015, and 2016, but Anchorage and Honolulu were present in the original Happiness dataset so their high ranking is more meaningful."
   ]
  },
  {
   "cell_type": "markdown",
   "metadata": {},
   "source": [
    "## Extrapolate Happiness Data to Predict Future Happiness"
   ]
  },
  {
   "cell_type": "code",
   "execution_count": 54,
   "metadata": {
    "scrolled": true
   },
   "outputs": [
    {
     "data": {
      "image/png": "[encoded data removed]",
      "text/plain": [
       "<matplotlib.figure.Figure at 0x1a13f4dc88>"
      ]
     },
     "metadata": {},
     "output_type": "display_data"
    }
   ],
   "source": [
    "# the cities we've ended up with data for, which is 7 fewer than our original wishlist\n",
    "final_cities = set(data.index.get_level_values('city'))\n",
    "\n",
    "for i, city in enumerate(final_cities):\n",
    "    years = np.array([int(year) for year in data['happiness'].loc[city].index])\n",
    "    happinesses = np.array(data['happiness'].loc[city].values)\n",
    "    \n",
    "    new_years = np.array(range(years[-1]+1, 2018+1))\n",
    "    new_happinesses = sk_LinearRegression()    \\\n",
    "                    .fit(years.reshape((-1, 1)), happinesses.reshape((-1, 1))) \\\n",
    "                    .predict(new_years.reshape((-1, 1)))\n",
    "\n",
    "    color = plt.get_cmap('Blues')(i*.75/len(final_cities)+.25)\n",
    "    plt.plot(years, happinesses, '-', c=color)\n",
    "    plt.plot([years[-1], new_years[0]], [happinesses[-1], new_happinesses[0]], '--', c=color)\n",
    "    plt.plot(new_years, new_happinesses, '.--', c=color)\n",
    "plt.title(\"Cities' Happiness Scores\")\n",
    "plt.ylabel(\"Happiness\")\n",
    "plt.xlabel(\"Year\")\n",
    "plt.show()"
   ]
  },
  {
   "cell_type": "markdown",
   "metadata": {},
   "source": [
    "No contest here—Honolulu is projected to be the happiest city for apparently all of time."
   ]
  },
  {
   "cell_type": "markdown",
   "metadata": {},
   "source": [
    "# $\\textrm{Privacy/Ethics Considerations}$"
   ]
  },
  {
   "cell_type": "code",
   "execution_count": null,
   "metadata": {
    "collapsed": true
   },
   "outputs": [],
   "source": []
  },
  {
   "cell_type": "markdown",
   "metadata": {},
   "source": [
    "# $\\textrm{Conclusions and Discussion}$"
   ]
  },
  {
   "cell_type": "code",
   "execution_count": null,
   "metadata": {
    "collapsed": true
   },
   "outputs": [],
   "source": []
  }
 ],
 "metadata": {
  "kernelspec": {
   "display_name": "Python 3",
   "language": "python",
   "name": "python3"
  },
  "language_info": {
   "codemirror_mode": {
    "name": "ipython",
    "version": 3
   },
   "file_extension": ".py",
   "mimetype": "text/x-python",
   "name": "python",
   "nbconvert_exporter": "python",
   "pygments_lexer": "ipython3",
   "version": "3.6.3"
  }
 },
 "nbformat": 4,
 "nbformat_minor": 2
}
